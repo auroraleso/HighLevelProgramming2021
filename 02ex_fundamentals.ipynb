{
 "cells": [
  {
   "cell_type": "markdown",
   "metadata": {},
   "source": [
    "1. Write the following expressions using the list comprehension"
   ]
  },
  {
   "cell_type": "code",
   "execution_count": 16,
   "metadata": {},
   "outputs": [
    {
     "name": "stdout",
     "output_type": "stream",
     "text": [
      "[(0, 0), (0, 1), (0, 2), (0, 3), (1, 0), (1, 1), (1, 2), (1, 3), (2, 0), (2, 1), (2, 2), (2, 3)]\n",
      "[1, 9, 25, 49, 81]\n"
     ]
    }
   ],
   "source": [
    "# 1\n",
    "ans = []\n",
    "for i in range(3):\n",
    "    for j in range(4):\n",
    "        ans.append((i, j))\n",
    "print(ans)\n",
    "\n",
    "# 2\n",
    "ans = map(lambda x: x * x, filter(lambda x: x % 2 == 1, range(10)))\n",
    "print(list(ans))"
   ]
  },
  {
   "cell_type": "code",
   "execution_count": 24,
   "metadata": {},
   "outputs": [
    {
     "name": "stdout",
     "output_type": "stream",
     "text": [
      "[(0, 0), (0, 1), (0, 2), (0, 3), (1, 0), (1, 1), (1, 2), (1, 3), (2, 0), (2, 1), (2, 2), (2, 3)]\n",
      "[1, 9, 25, 49, 81]\n"
     ]
    }
   ],
   "source": [
    "#1\n",
    "ans=[(x,y) for x in range (3) for y in range(4)]\n",
    "print(ans)\n",
    "\n",
    "#2\n",
    "ans2=[i**2 for i in range(10) if i%2==1]\n",
    "print(ans2)"
   ]
  },
  {
   "cell_type": "markdown",
   "metadata": {},
   "source": [
    "2\\. Convert the function $f$ into a function that doesn't use global variables and that does not modify the original list"
   ]
  },
  {
   "cell_type": "code",
   "execution_count": 34,
   "metadata": {},
   "outputs": [
    {
     "name": "stdout",
     "output_type": "stream",
     "text": [
      "The original list is:\n",
      " [1, 2, 3]\n",
      "The modified list is:\n",
      " [1, 2, 3, 0, 1, 2, 3, 4]\n",
      "The original list has become:\n",
      "  [1, 2, 3, 0, 1, 2, 3, 4]\n"
     ]
    }
   ],
   "source": [
    "x = 5\n",
    "def f(alist):\n",
    "    for i in range(x):\n",
    "         alist.append(i)\n",
    "    return alist\n",
    "\n",
    "alist = [1,2,3]\n",
    "print(\"The original list is:\\n\",alist)\n",
    "ans = f(alist)\n",
    "print(\"The modified list is:\\n\",ans)\n",
    "print(\"The original list has become:\\n \",alist)"
   ]
  },
  {
   "cell_type": "code",
   "execution_count": 139,
   "metadata": {},
   "outputs": [
    {
     "name": "stdout",
     "output_type": "stream",
     "text": [
      "The original list is:\n",
      " [1, 2, 3]\n",
      "The modified list is:\n",
      " [1, 2, 3, 1]\n",
      "The original list has become:\n",
      "  [1, 2, 3, 1]\n"
     ]
    }
   ],
   "source": [
    "#old version. \n",
    "def f_unmodified(alista=None):\n",
    "    if alista is None:\n",
    "        alista=[]\n",
    "        #alist2=alista #initialize the local list\n",
    "        for i in range(5):\n",
    "             alista.append(i) #modify the local list\n",
    "        return alista\n",
    "alista=[1,2,3]\n",
    "print(\"The original list is:\\n\",alista)\n",
    "ans1=f(alista)\n",
    "print(\"The modified list is:\\n\",ans1)\n",
    "print(\"The original list has become:\\n \",alista)"
   ]
  },
  {
   "cell_type": "code",
   "execution_count": 149,
   "metadata": {},
   "outputs": [
    {
     "name": "stdout",
     "output_type": "stream",
     "text": [
      "The original list is:\n",
      " [1, 2, 3]\n",
      "The modified list is:\n",
      " [1, 2, 3, 0, 1, 2, 3, 4]\n",
      "The original list has become:\n",
      " [1, 2, 3]\n"
     ]
    }
   ],
   "source": [
    "#not sure this makes sense actually\n",
    "def f(lista = None):\n",
    "    if lista is None:\n",
    "        lista = []\n",
    "    for i in range(5):\n",
    "             lista.append(i)\n",
    "    return lista\n",
    "\n",
    "lista = [1,2,3]\n",
    "print(\"The original list is:\\n\",lista)\n",
    "mod=f(lista = [1,2,3])\n",
    "print(\"The modified list is:\\n\",mod)\n",
    "print(\"The original list has become:\\n\",lista)"
   ]
  },
  {
   "cell_type": "markdown",
   "metadata": {},
   "source": [
    "3\\. Write a `decorator` hello that makes every wrapped function print “Hello!”, i.e. something like:\n",
    "\n",
    "```python\n",
    "@hello\n",
    "def square(x):\n",
    "    return x*x\n",
    "```\n",
    "\n"
   ]
  },
  {
   "cell_type": "code",
   "execution_count": 45,
   "metadata": {},
   "outputs": [
    {
     "name": "stdout",
     "output_type": "stream",
     "text": [
      "Hello\n",
      "25\n",
      "World\n"
     ]
    }
   ],
   "source": [
    "def my_decorator(func):\n",
    "    def wrapper():\n",
    "        print(\"Hello\")\n",
    "        func()\n",
    "        print(\"World\")\n",
    "    return wrapper\n",
    "\n",
    "@my_decorator #syntax!!\n",
    "def square():\n",
    "    print(x**2)\n",
    "    return x*x\n",
    "square()"
   ]
  },
  {
   "cell_type": "markdown",
   "metadata": {},
   "source": [
    "4\\. Write the factorial function in two different ways, so that it a) does and b) does not use recursion."
   ]
  },
  {
   "cell_type": "code",
   "execution_count": 109,
   "metadata": {},
   "outputs": [
    {
     "name": "stdout",
     "output_type": "stream",
     "text": [
      "Recursive result:\n",
      " 24\n",
      "No recursive result:\n",
      " 24\n"
     ]
    }
   ],
   "source": [
    "#Recursion\n",
    "def factorial_Recursion(x):\n",
    "   if x==1:#otherwise we would go to zero\n",
    "       return x\n",
    "   else:\n",
    "       return factorial_Recursion(x-1)*x\n",
    "    \n",
    "x=4\n",
    "rec=factorial_Recursion(x)\n",
    "print(\"Recursive result:\\n\",rec)\n",
    "\n",
    "\n",
    "#No recursion\n",
    "def factorial_noRecursion(n):\n",
    "    fact=1\n",
    "    #print(\"hello\")\n",
    "    for j in range(1,n+1):\n",
    "        fact=fact*j\n",
    "    return fact\n",
    "n=4\n",
    "factorial=factorial_noRecursion(n)\n",
    "print(\"No recursive result:\\n\",factorial)"
   ]
  },
  {
   "cell_type": "markdown",
   "metadata": {},
   "source": [
    "5\\. Use HOFs (zip in particular) to compute the weight of a circle, a disk and a sphere, assuming different radii and different densities:\n",
    "\n",
    "```python\n",
    "densities = {\"Al\" : [0.5, 1, 2], \"Fe\" : [3, 4, 5], \"Pb\" : [15, 20, 30]}\n",
    "radii = [1, 2, 3]\n",
    "```\n",
    "\n",
    "where the entries of the dictionary's values are the linear, superficial and volumetric densities of the materials respectively.\n",
    "\n",
    "Subsequently, define a list using a comprehension with three lambda functions that compute the circumference, the area and the volume for a given radius.\n"
   ]
  },
  {
   "cell_type": "code",
   "execution_count": 174,
   "metadata": {},
   "outputs": [
    {
     "name": "stdout",
     "output_type": "stream",
     "text": [
      "Al 0.5 1\n",
      "Al 1 2\n",
      "Al 2 3\n",
      "\n",
      "\n",
      "Fe 3 1\n",
      "Fe 4 2\n",
      "Fe 5 3\n",
      "\n",
      "\n",
      "Pb 15 1\n",
      "Pb 20 2\n",
      "Pb 30 3\n",
      "\n",
      "\n",
      "Al 1\n",
      "Fe 2\n",
      "Pb 3\n"
     ]
    }
   ],
   "source": [
    "#P=V*d*9.81\n",
    "densities = {\"Al\" : [0.5, 1, 2], \"Fe\" : [3, 4, 5], \"Pb\" : [15, 20, 30]}\n",
    "radii = [1, 2, 3]\n",
    "for i in densities: \n",
    "    for j in range(3):\n",
    "        print(i, densities[i][j],radii[j])\n",
    "        print(\"Weight:\\n\",9.81*densities[i][j]*)\n",
    "    print(\"\\n\")\n",
    "for d,r in zip(densities, radii):\n",
    "    print(d,r)\n",
    "#for i in range(3):\n",
    " #   for (d,r) in zip(radii,densities[i])"
   ]
  },
  {
   "cell_type": "markdown",
   "metadata": {},
   "source": [
    "6\\. Edit the class defintion to add an instance attribute of `is_hungry = True` to the Dog class. Then add a method called `eat()` which changes the value of `is_hungry` to `False` when called. Figure out the best way to instantiate the dog objects and to feed the dogs, e.g. call the `eat()` method for all instances. Finally, print “My dogs are hungry.” or “My dogs are not hungry.” if all of them have `is_hungry = True` or `False`, respectively. The final output should look like this:\n",
    "\n",
    "`I have 3 dogs. \n",
    "Tom is 6. \n",
    "Fletcher is 7. \n",
    "Larry is 9. \n",
    "And they're all mammals, of course. \n",
    "My dogs are not hungry.\n",
    "`\n",
    "\n",
    "```python\n",
    "# Parent class\n",
    "class Dog:\n",
    "\n",
    "    # Class attribute\n",
    "    species = 'mammal'\n",
    "\n",
    "    # Initializer / Instance attributes\n",
    "    def __init__(self, name, age):\n",
    "        self.name = name\n",
    "        self.age = age\n",
    "\n",
    "    # instance method\n",
    "    def description(self):\n",
    "        return \"{} is {} years old\".format(self.name, self.age)\n",
    "\n",
    "    # instance method\n",
    "    def speak(self, sound):\n",
    "        return \"{} says {}\".format(self.name, sound)\n",
    "\n",
    "# Child class (inherits from Dog class)\n",
    "class RussellTerrier(Dog):\n",
    "    def run(self, speed):\n",
    "        return \"{} runs {}\".format(self.name, speed)\n",
    "\n",
    "# Child class (inherits from Dog class)\n",
    "class Bulldog(Dog):\n",
    "    def run(self, speed):\n",
    "        return \"{} runs {}\".format(self.name, speed)\n",
    "```"
   ]
  },
  {
   "cell_type": "code",
   "execution_count": 129,
   "metadata": {},
   "outputs": [],
   "source": [
    "# Parent class\n",
    "class Dog:\n",
    "\n",
    "    # Class attribute\n",
    "    species = 'mammal'\n",
    "    is_hungry= True\n",
    "    # Initializer / Instance attributes\n",
    "    def __init__(self, name, age):\n",
    "        self.name = name\n",
    "        self.age = age\n",
    "        #self.is_hungry = True\n",
    "\n",
    "    # instance method\n",
    "    def description(self):\n",
    "        return \"{} is {} years old\".format(self.name, self.age)\n",
    "\n",
    "    # instance method\n",
    "    def speak(self, sound):\n",
    "        return \"{} says {}\".format(self.name, sound)\n",
    "    def eat(self):\n",
    "        self.is_hungry = False\n",
    "\n",
    "# Child class (inherits from Dog class)\n",
    "class RussellTerrier(Dog):\n",
    "    def run(self, speed):\n",
    "        return \"{} runs {}\".format(self.name, speed)\n",
    "\n",
    "# Child class (inherits from Dog class)\n",
    "class Bulldog(Dog):\n",
    "    def run(self, speed):\n",
    "        return \"{} runs {}\".format(self.name, speed)\n",
    "\n",
    "    \n",
    "from random import randrange\n",
    "good_bois=[]\n",
    "#dog_number=randrange(3)\n",
    "#print(dog_number)\n",
    "#for i in range(dog_number):\n",
    "    #type=randrange(2)\n",
    "   # if (type==0):\n",
    "      #  good_bois.append(RussellTerrier)\n",
    "doggie1=RussellTerrier(\"Larry\",2)   \n",
    "doggie2=Bulldog(\"Gino\",6) \n",
    "good_bois.append(doggie1)\n",
    "good_bois.append(doggie2)\n",
    "doggie1.eat()\n",
    "doggie2.eat()\n",
    "if doggie1."
   ]
  },
  {
   "cell_type": "code",
   "execution_count": 127,
   "metadata": {},
   "outputs": [],
   "source": [
    "#"
   ]
  },
  {
   "cell_type": "code",
   "execution_count": null,
   "metadata": {},
   "outputs": [],
   "source": []
  }
 ],
 "metadata": {
  "kernelspec": {
   "display_name": "Python 3 (ipykernel)",
   "language": "python",
   "name": "python3"
  },
  "language_info": {
   "codemirror_mode": {
    "name": "ipython",
    "version": 3
   },
   "file_extension": ".py",
   "mimetype": "text/x-python",
   "name": "python",
   "nbconvert_exporter": "python",
   "pygments_lexer": "ipython3",
   "version": "3.9.6"
  }
 },
 "nbformat": 4,
 "nbformat_minor": 2
}
