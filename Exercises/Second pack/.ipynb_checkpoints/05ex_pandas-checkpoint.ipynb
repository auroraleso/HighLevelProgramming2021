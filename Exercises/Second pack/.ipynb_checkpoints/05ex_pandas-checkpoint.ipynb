{
 "cells": [
  {
   "cell_type": "markdown",
   "metadata": {},
   "source": [
    "This exercise consists in analyzing a dataset containg timing information from a series of Time-to-Digital-Converters (TDC) implemented in a pair of FPGAs. Each measurement (i.e. each row of the input file) consists of a flag that specifies the type of message ('HEAD', which in this case is always 1), two addresses of the TDC providing the signal ('FPGA' and 'TDC_CHANNEL'), and the timing information ('ORBIT_CNT', 'BX_COUNTER', and 'TDC_MEAS'). Each TDC count corresponds to 25/30 ns, whereas a unit of BX_COUNTER corresponds to 25 ns, and the ORBIT_CNT is increased every 'x' BX_COUNTER. This allows to store the time in a similar way to hours, minutes and seconds."
   ]
  },
  {
   "cell_type": "code",
   "execution_count": 1,
   "metadata": {},
   "outputs": [],
   "source": [
    "# If haven't downloaded it yet, please get the data file with wget\n",
    "#!wget https://www.dropbox.com/s/xvjzaxzz3ysphme/data_000637.txt -P ./data/\n",
    "\n",
    "#importing libraries\n",
    "import pandas as pd \n",
    "import numpy as np\n",
    "import datetime as dt"
   ]
  },
  {
   "cell_type": "markdown",
   "metadata": {},
   "source": [
    "1\\. Create a Pandas DataFrame reading N rows of the `data/data_000637.txt` dataset. Choose N to be smaller than or equal to the maximum number of rows and larger that 10k (check the documentation)."
   ]
  },
  {
   "cell_type": "code",
   "execution_count": 2,
   "metadata": {},
   "outputs": [
    {
     "name": "stdout",
     "output_type": "stream",
     "text": [
      "         HEAD  FPGA  TDC_CHANNEL   ORBIT_CNT  BX_COUNTER  TDC_MEAS\n",
      "0           1     0          123  3869200167        2374        26\n",
      "1           1     0          124  3869200167        2374        27\n",
      "2           1     0           63  3869200167        2553        28\n",
      "3           1     0           64  3869200167        2558        19\n",
      "4           1     0           64  3869200167        2760        25\n",
      "...       ...   ...          ...         ...         ...       ...\n",
      "1310715     1     0           62  3869211171         762        14\n",
      "1310716     1     1            4  3869211171         763        11\n",
      "1310717     1     0           64  3869211171         764         0\n",
      "1310718     1     0          139  3869211171         769         0\n",
      "1310719     1     0           61  3869211171         762        18\n",
      "\n",
      "[1310720 rows x 6 columns]\n"
     ]
    }
   ],
   "source": [
    "#from io import StringIO\n",
    "\n",
    "'''n = 20\n",
    "with open('data_000637.txt', 'r') as f:\n",
    "    head = ''.join(f.readlines(n))\n",
    "\n",
    "df = pd.read_csv(StringIO(head))'''\n",
    "\n",
    "file_name = \"data_000637.txt\"\n",
    "data = pd.read_csv(file_name)\n",
    "\n",
    "print(data)\n"
   ]
  },
  {
   "cell_type": "code",
   "execution_count": 3,
   "metadata": {},
   "outputs": [
    {
     "name": "stdout",
     "output_type": "stream",
     "text": [
      "         HEAD  FPGA  TDC_CHANNEL   ORBIT_CNT  BX_COUNTER  TDC_MEAS\n",
      "0           1     0          123  3869200167        2374        26\n",
      "1           1     0          124  3869200167        2374        27\n",
      "2           1     0           63  3869200167        2553        28\n",
      "3           1     0           64  3869200167        2558        19\n",
      "4           1     0           64  3869200167        2760        25\n",
      "...       ...   ...          ...         ...         ...       ...\n",
      "1210715     1     0           51  3869210501        1716        10\n",
      "1210716     1     0          139  3869210501        1721         0\n",
      "1210717     1     1           54  3869210501        1713         1\n",
      "1210718     1     0           56  3869210501        1719        26\n",
      "1210719     1     0           49  3869210501        1733        26\n",
      "\n",
      "[1210720 rows x 6 columns]\n"
     ]
    }
   ],
   "source": [
    "#since n max rows = 1310720\n",
    "\n",
    "n = 1210720\n",
    "file_name = \"data_000637.txt\"\n",
    "data = pd.read_csv(file_name, nrows = n)\n",
    "\n",
    "print(data)\n"
   ]
  },
  {
   "cell_type": "markdown",
   "metadata": {},
   "source": [
    "2\\. Estimate the number of BX in a ORBIT (the value 'x')."
   ]
  },
  {
   "cell_type": "code",
   "execution_count": null,
   "metadata": {},
   "outputs": [],
   "source": [
    "'''itime = dt.datetime.now()\n",
    "print(\"Begin time:\", itime)\n",
    "\n",
    "# the one-liner command\n",
    "data['TIMENS'] = data['TDC_MEAS'] * 25 / 30 + data['BX_COUNTER'] * 25\n",
    "\n",
    "ftime = dt.datetime.now()\n",
    "print(\"End time:\", ftime)\n",
    "print(\"Elapsed time:\", ftime - itime)\n",
    "\n",
    "data'''\n",
    "\n",
    "'''j= ''\n",
    "BX = []\n",
    "counter = 0\n",
    "ORBIT = []\n",
    "data = pd.read_csv(file_name, nrows = 100)\n",
    "for i in data['ORBIT_CNT']:\n",
    "    ORBIT.append(i)\n",
    "\n",
    "for i in range(len(ORBIT)):\n",
    "    if i+1 < len(ORBIT):\n",
    "        while ORBIT[i+1]==ORBIT[i] :\n",
    "            print(data['BX_COUNTER'])\n",
    "        counter += 1\n",
    "    else:\n",
    "        break\n",
    "        \n",
    "    '''BX.append(0)\n",
    "    print(\"hello\")\n",
    "    while i+1 == j:\n",
    "        print(\"hello\")\n",
    "        BX[counter] += data['BX_COUNTER']\n",
    "    counter += 1'''\n",
    "\n",
    "print(ORBIT)'''\n",
    "        "
   ]
  },
  {
   "cell_type": "markdown",
   "metadata": {},
   "source": [
    "3\\. Find out the duration of the data taking in hours, minutes and seconds. You can either make an estimate based on the fraction of the measurements (rows) you read, or perform this check precisely by reading the whole dataset."
   ]
  },
  {
   "cell_type": "code",
   "execution_count": 5,
   "metadata": {},
   "outputs": [
    {
     "name": "stdout",
     "output_type": "stream",
     "text": [
      "Begin time: 2021-11-19 15:24:29.464430\n",
      "End time: 2021-11-19 15:24:29.691254\n",
      "Elapsed time: 0:00:00.226824\n"
     ]
    }
   ],
   "source": [
    "initialT = dt.datetime.now()\n",
    "print(\"Begin time:\", initialT)\n",
    "\n",
    "data = pd.read_csv(\"data_000637.txt\")\n",
    "\n",
    "finalT = dt.datetime.now()\n",
    "print(\"End time:\", finalT)\n",
    "print(\"Elapsed time:\", finalT - initialT)"
   ]
  },
  {
   "cell_type": "markdown",
   "metadata": {},
   "source": [
    "4\\. Create a new column with the absolute time in ns (as a combination of the other three columns with timing information) since the beginning of the data acquisition."
   ]
  },
  {
   "cell_type": "code",
   "execution_count": null,
   "metadata": {},
   "outputs": [],
   "source": []
  },
  {
   "cell_type": "markdown",
   "metadata": {},
   "source": [
    "5\\. Use the `.groupby()` method to find out the noisy channels, i.e. the TDC channels with most counts (print to screen the top 3 and the corresponding counts)"
   ]
  },
  {
   "cell_type": "code",
   "execution_count": null,
   "metadata": {},
   "outputs": [],
   "source": []
  },
  {
   "cell_type": "markdown",
   "metadata": {},
   "source": [
    "6\\. Count the number of non-empty orbits (i.e. the number of orbits with at least one hit). Count also the number of unique orbits with at least one measurement from TDC_CHANNEL=139."
   ]
  },
  {
   "cell_type": "code",
   "execution_count": null,
   "metadata": {},
   "outputs": [],
   "source": []
  },
  {
   "cell_type": "markdown",
   "metadata": {},
   "source": [
    "7\\. **Optional:** Make two occupancy plots (one for each FPGA), i.e. plot the number of counts per TDC channel"
   ]
  },
  {
   "cell_type": "code",
   "execution_count": null,
   "metadata": {},
   "outputs": [],
   "source": []
  }
 ],
 "metadata": {
  "kernelspec": {
   "display_name": "Python 3 (ipykernel)",
   "language": "python",
   "name": "python3"
  },
  "language_info": {
   "codemirror_mode": {
    "name": "ipython",
    "version": 3
   },
   "file_extension": ".py",
   "mimetype": "text/x-python",
   "name": "python",
   "nbconvert_exporter": "python",
   "pygments_lexer": "ipython3",
   "version": "3.9.6"
  }
 },
 "nbformat": 4,
 "nbformat_minor": 2
}
