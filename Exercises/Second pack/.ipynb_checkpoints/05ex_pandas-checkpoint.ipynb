{
 "cells": [
  {
   "cell_type": "markdown",
   "metadata": {},
   "source": [
    "This exercise consists in analyzing a dataset containg timing information from a series of Time-to-Digital-Converters (TDC) implemented in a pair of FPGAs. Each measurement (i.e. each row of the input file) consists of a flag that specifies the type of message ('HEAD', which in this case is always 1), two addresses of the TDC providing the signal ('FPGA' and 'TDC_CHANNEL'), and the timing information ('ORBIT_CNT', 'BX_COUNTER', and 'TDC_MEAS'). Each TDC count corresponds to 25/30 ns, whereas a unit of BX_COUNTER corresponds to 25 ns, and the ORBIT_CNT is increased every 'x' BX_COUNTER. This allows to store the time in a similar way to hours, minutes and seconds."
   ]
  },
  {
   "cell_type": "code",
   "execution_count": 6,
   "metadata": {},
   "outputs": [],
   "source": [
    "# If haven't downloaded it yet, please get the data file with wget\n",
    "#!wget https://www.dropbox.com/s/xvjzaxzz3ysphme/data_000637.txt -P ./data/\n",
    "\n",
    "#importing libraries\n",
    "import pandas as pd \n",
    "import numpy as np\n",
    "import datetime as dt\n",
    "import matplotlib.pyplot as plt"
   ]
  },
  {
   "cell_type": "markdown",
   "metadata": {},
   "source": [
    "1\\. Create a Pandas DataFrame reading N rows of the `data/data_000637.txt` dataset. Choose N to be smaller than or equal to the maximum number of rows and larger that 10k (check the documentation)."
   ]
  },
  {
   "cell_type": "code",
   "execution_count": 7,
   "metadata": {},
   "outputs": [
    {
     "name": "stdout",
     "output_type": "stream",
     "text": [
      "         HEAD  FPGA  TDC_CHANNEL   ORBIT_CNT  BX_COUNTER  TDC_MEAS\n",
      "0           1     0          123  3869200167        2374        26\n",
      "1           1     0          124  3869200167        2374        27\n",
      "2           1     0           63  3869200167        2553        28\n",
      "3           1     0           64  3869200167        2558        19\n",
      "4           1     0           64  3869200167        2760        25\n",
      "...       ...   ...          ...         ...         ...       ...\n",
      "1310715     1     0           62  3869211171         762        14\n",
      "1310716     1     1            4  3869211171         763        11\n",
      "1310717     1     0           64  3869211171         764         0\n",
      "1310718     1     0          139  3869211171         769         0\n",
      "1310719     1     0           61  3869211171         762        18\n",
      "\n",
      "[1310720 rows x 6 columns]\n"
     ]
    }
   ],
   "source": [
    "file_name = \"data_000637.txt\"\n",
    "data = pd.read_csv(file_name)\n",
    "print(data)\n"
   ]
  },
  {
   "cell_type": "code",
   "execution_count": 8,
   "metadata": {},
   "outputs": [
    {
     "name": "stdout",
     "output_type": "stream",
     "text": [
      "        HEAD  FPGA  TDC_CHANNEL   ORBIT_CNT  BX_COUNTER  TDC_MEAS\n",
      "0          1     0          123  3869200167        2374        26\n",
      "1          1     0          124  3869200167        2374        27\n",
      "2          1     0           63  3869200167        2553        28\n",
      "3          1     0           64  3869200167        2558        19\n",
      "4          1     0           64  3869200167        2760        25\n",
      "...      ...   ...          ...         ...         ...       ...\n",
      "449576     1     0           28  3869204701        2906         5\n",
      "449577     1     1          107  3869204701        2930        17\n",
      "449578     1     1          105  3869204701        2935        23\n",
      "449579     1     1          106  3869204701        2936         9\n",
      "449580     1     1          107  3869204701        2939         5\n",
      "\n",
      "[449581 rows x 6 columns]\n"
     ]
    }
   ],
   "source": [
    "#since n max rows = 1310720\n",
    "\n",
    "N = np.random.randint(1000,len(data))\n",
    "data_part = pd.read_csv(file_name, nrows = N)\n",
    "\n",
    "print(data_part)\n"
   ]
  },
  {
   "cell_type": "markdown",
   "metadata": {},
   "source": [
    "2\\. Estimate the number of BX in a ORBIT (the value 'x')."
   ]
  },
  {
   "cell_type": "code",
   "execution_count": 9,
   "metadata": {},
   "outputs": [],
   "source": [
    "# NOT UNDERSTOOD THE REQUEST"
   ]
  },
  {
   "cell_type": "markdown",
   "metadata": {},
   "source": [
    "3\\. Find out the duration of the data taking in hours, minutes and seconds. You can either make an estimate based on the fraction of the measurements (rows) you read, or perform this check precisely by reading the whole dataset."
   ]
  },
  {
   "cell_type": "code",
   "execution_count": 11,
   "metadata": {},
   "outputs": [
    {
     "name": "stdout",
     "output_type": "stream",
     "text": [
      "The duration of the data taking estimated is 0.9804162533125 seconds\n"
     ]
    }
   ],
   "source": [
    "data = pd.read_csv(\"data_000637.txt\")\n",
    "def convertToSeconds(data):\n",
    "    tSec = data['TDC_MEAS']*25/30 + 25*data['BX_COUNTER'] + 3564*25*data['ORBIT_CNT'] \n",
    "    return tSec\n",
    "\n",
    "ActualTime = convertToSeconds(data)\n",
    "deltaT = (ActualTime.max() - ActualTime.min())*1e-9\n",
    "\n",
    "print('The duration of the data taking estimated is', deltaT, 'seconds')"
   ]
  },
  {
   "cell_type": "markdown",
   "metadata": {},
   "source": [
    "4\\. Create a new column with the absolute time in ns (as a combination of the other three columns with timing information) since the beginning of the data acquisition."
   ]
  },
  {
   "cell_type": "code",
   "execution_count": 12,
   "metadata": {},
   "outputs": [
    {
     "data": {
      "text/html": [
       "<div>\n",
       "<style scoped>\n",
       "    .dataframe tbody tr th:only-of-type {\n",
       "        vertical-align: middle;\n",
       "    }\n",
       "\n",
       "    .dataframe tbody tr th {\n",
       "        vertical-align: top;\n",
       "    }\n",
       "\n",
       "    .dataframe thead th {\n",
       "        text-align: right;\n",
       "    }\n",
       "</style>\n",
       "<table border=\"1\" class=\"dataframe\">\n",
       "  <thead>\n",
       "    <tr style=\"text-align: right;\">\n",
       "      <th></th>\n",
       "      <th>HEAD</th>\n",
       "      <th>FPGA</th>\n",
       "      <th>TDC_CHANNEL</th>\n",
       "      <th>ORBIT_CNT</th>\n",
       "      <th>BX_COUNTER</th>\n",
       "      <th>TDC_MEAS</th>\n",
       "      <th>Absolute time [ns]</th>\n",
       "    </tr>\n",
       "  </thead>\n",
       "  <tbody>\n",
       "    <tr>\n",
       "      <th>0</th>\n",
       "      <td>1</td>\n",
       "      <td>0</td>\n",
       "      <td>123</td>\n",
       "      <td>3869200167</td>\n",
       "      <td>2374</td>\n",
       "      <td>26</td>\n",
       "      <td>3.447457e+14</td>\n",
       "    </tr>\n",
       "    <tr>\n",
       "      <th>1</th>\n",
       "      <td>1</td>\n",
       "      <td>0</td>\n",
       "      <td>124</td>\n",
       "      <td>3869200167</td>\n",
       "      <td>2374</td>\n",
       "      <td>27</td>\n",
       "      <td>3.447457e+14</td>\n",
       "    </tr>\n",
       "    <tr>\n",
       "      <th>2</th>\n",
       "      <td>1</td>\n",
       "      <td>0</td>\n",
       "      <td>63</td>\n",
       "      <td>3869200167</td>\n",
       "      <td>2553</td>\n",
       "      <td>28</td>\n",
       "      <td>3.447457e+14</td>\n",
       "    </tr>\n",
       "    <tr>\n",
       "      <th>3</th>\n",
       "      <td>1</td>\n",
       "      <td>0</td>\n",
       "      <td>64</td>\n",
       "      <td>3869200167</td>\n",
       "      <td>2558</td>\n",
       "      <td>19</td>\n",
       "      <td>3.447457e+14</td>\n",
       "    </tr>\n",
       "    <tr>\n",
       "      <th>4</th>\n",
       "      <td>1</td>\n",
       "      <td>0</td>\n",
       "      <td>64</td>\n",
       "      <td>3869200167</td>\n",
       "      <td>2760</td>\n",
       "      <td>25</td>\n",
       "      <td>3.447457e+14</td>\n",
       "    </tr>\n",
       "    <tr>\n",
       "      <th>...</th>\n",
       "      <td>...</td>\n",
       "      <td>...</td>\n",
       "      <td>...</td>\n",
       "      <td>...</td>\n",
       "      <td>...</td>\n",
       "      <td>...</td>\n",
       "      <td>...</td>\n",
       "    </tr>\n",
       "    <tr>\n",
       "      <th>1310715</th>\n",
       "      <td>1</td>\n",
       "      <td>0</td>\n",
       "      <td>62</td>\n",
       "      <td>3869211171</td>\n",
       "      <td>762</td>\n",
       "      <td>14</td>\n",
       "      <td>3.447467e+14</td>\n",
       "    </tr>\n",
       "    <tr>\n",
       "      <th>1310716</th>\n",
       "      <td>1</td>\n",
       "      <td>1</td>\n",
       "      <td>4</td>\n",
       "      <td>3869211171</td>\n",
       "      <td>763</td>\n",
       "      <td>11</td>\n",
       "      <td>3.447467e+14</td>\n",
       "    </tr>\n",
       "    <tr>\n",
       "      <th>1310717</th>\n",
       "      <td>1</td>\n",
       "      <td>0</td>\n",
       "      <td>64</td>\n",
       "      <td>3869211171</td>\n",
       "      <td>764</td>\n",
       "      <td>0</td>\n",
       "      <td>3.447467e+14</td>\n",
       "    </tr>\n",
       "    <tr>\n",
       "      <th>1310718</th>\n",
       "      <td>1</td>\n",
       "      <td>0</td>\n",
       "      <td>139</td>\n",
       "      <td>3869211171</td>\n",
       "      <td>769</td>\n",
       "      <td>0</td>\n",
       "      <td>3.447467e+14</td>\n",
       "    </tr>\n",
       "    <tr>\n",
       "      <th>1310719</th>\n",
       "      <td>1</td>\n",
       "      <td>0</td>\n",
       "      <td>61</td>\n",
       "      <td>3869211171</td>\n",
       "      <td>762</td>\n",
       "      <td>18</td>\n",
       "      <td>3.447467e+14</td>\n",
       "    </tr>\n",
       "  </tbody>\n",
       "</table>\n",
       "<p>1310720 rows × 7 columns</p>\n",
       "</div>"
      ],
      "text/plain": [
       "         HEAD  FPGA  TDC_CHANNEL   ORBIT_CNT  BX_COUNTER  TDC_MEAS  \\\n",
       "0           1     0          123  3869200167        2374        26   \n",
       "1           1     0          124  3869200167        2374        27   \n",
       "2           1     0           63  3869200167        2553        28   \n",
       "3           1     0           64  3869200167        2558        19   \n",
       "4           1     0           64  3869200167        2760        25   \n",
       "...       ...   ...          ...         ...         ...       ...   \n",
       "1310715     1     0           62  3869211171         762        14   \n",
       "1310716     1     1            4  3869211171         763        11   \n",
       "1310717     1     0           64  3869211171         764         0   \n",
       "1310718     1     0          139  3869211171         769         0   \n",
       "1310719     1     0           61  3869211171         762        18   \n",
       "\n",
       "         Absolute time [ns]  \n",
       "0              3.447457e+14  \n",
       "1              3.447457e+14  \n",
       "2              3.447457e+14  \n",
       "3              3.447457e+14  \n",
       "4              3.447457e+14  \n",
       "...                     ...  \n",
       "1310715        3.447467e+14  \n",
       "1310716        3.447467e+14  \n",
       "1310717        3.447467e+14  \n",
       "1310718        3.447467e+14  \n",
       "1310719        3.447467e+14  \n",
       "\n",
       "[1310720 rows x 7 columns]"
      ]
     },
     "execution_count": 12,
     "metadata": {},
     "output_type": "execute_result"
    }
   ],
   "source": [
    "data[\"Absolute time [ns]\"] = data['TDC_MEAS'] * 25 / 30 + data['BX_COUNTER'] * 25 + 3564*25*data['ORBIT_CNT']\n",
    "data"
   ]
  },
  {
   "cell_type": "markdown",
   "metadata": {},
   "source": [
    "5\\. Use the `.groupby()` method to find out the noisy channels, i.e. the TDC channels with most counts (print to screen the top 3 and the corresponding counts)"
   ]
  },
  {
   "cell_type": "code",
   "execution_count": 13,
   "metadata": {},
   "outputs": [
    {
     "name": "stdout",
     "output_type": "stream",
     "text": [
      "              HEAD   FPGA  ORBIT_CNT  BX_COUNTER  TDC_MEAS  Absolute time [ns]\n",
      "TDC_CHANNEL                                                                   \n",
      "1            29653  29653      29653       29653     29653               29653\n",
      "2            34271  34271      34271       34271     34271               34271\n",
      "3            23463  23463      23463       23463     23463               23463\n"
     ]
    }
   ],
   "source": [
    "#data\n",
    "\n",
    "data1 = data.groupby('TDC_CHANNEL').count()\n",
    "data1.sort_values( 'HEAD', ascending = False)\n",
    "\n",
    "\n",
    "print(data1.head(3))\n"
   ]
  },
  {
   "cell_type": "markdown",
   "metadata": {},
   "source": [
    "6\\. Count the number of non-empty orbits (i.e. the number of orbits with at least one hit). Count also the number of unique orbits with at least one measurement from TDC_CHANNEL=139."
   ]
  },
  {
   "cell_type": "code",
   "execution_count": 14,
   "metadata": {},
   "outputs": [
    {
     "name": "stdout",
     "output_type": "stream",
     "text": [
      "Non empty orbits number is equal to 11001\n",
      "Unique orbits with at least one TDC_channel equal to 139 are 10976\n"
     ]
    }
   ],
   "source": [
    "# hit = entry in the data frame \n",
    "GroupingORBIT = data.groupby(\"ORBIT_CNT\")\n",
    "print(\"Non empty orbits number is equal to\", len(GroupingORBIT))\n",
    "\n",
    "\n",
    "TDC139 = data[data[\"TDC_CHANNEL\"] == 139].groupby(\"ORBIT_CNT\")\n",
    "print(\"Unique orbits with at least one TDC_channel equal to 139 are\", len(TDC139))"
   ]
  },
  {
   "cell_type": "markdown",
   "metadata": {},
   "source": [
    "7\\. **Optional:** Make two occupancy plots (one for each FPGA), i.e. plot the number of counts per TDC channel"
   ]
  },
  {
   "cell_type": "code",
   "execution_count": 33,
   "metadata": {},
   "outputs": [
    {
     "data": {
      "image/png": "[encoded data removed]",
      "text/plain": [
       "<Figure size 1296x432 with 2 Axes>"
      ]
     },
     "metadata": {
      "needs_background": "light"
     },
     "output_type": "display_data"
    }
   ],
   "source": [
    "# Plot counts for each channel\n",
    "\n",
    "fig,((ax0,ax1)) = plt.subplots(1,2,figsize=(18,6))\n",
    "\n",
    "ax0.hist(data[data.FPGA != 1].loc[:,'TDC_CHANNEL'], bins = data[data.FPGA != 1].loc[:,'TDC_CHANNEL'].max()//2, alpha=0.2, color='blue',edgecolor='blue')\n",
    "ax1.hist(data[data.FPGA != 0].loc[:,'TDC_CHANNEL'], bins = data[data.FPGA != 0].loc[:,'TDC_CHANNEL'].max()//2, alpha=0.2, color='green', edgecolor='green')\n",
    "\n",
    "ax0.set_xlabel('Number of channels FPGA=0')\n",
    "ax1.set_xlabel('Number of channels FPGA=1')\n",
    "\n",
    "ax0.set_ylabel('Counts')\n",
    "ax1.set_ylabel('Counts')\n",
    "\n",
    "\n",
    "plt.show()"
   ]
  },
  {
   "cell_type": "code",
   "execution_count": null,
   "metadata": {},
   "outputs": [],
   "source": []
  }
 ],
 "metadata": {
  "kernelspec": {
   "display_name": "Python 3 (ipykernel)",
   "language": "python",
   "name": "python3"
  },
  "language_info": {
   "codemirror_mode": {
    "name": "ipython",
    "version": 3
   },
   "file_extension": ".py",
   "mimetype": "text/x-python",
   "name": "python",
   "nbconvert_exporter": "python",
   "pygments_lexer": "ipython3",
   "version": "3.9.6"
  }
 },
 "nbformat": 4,
 "nbformat_minor": 2
}
