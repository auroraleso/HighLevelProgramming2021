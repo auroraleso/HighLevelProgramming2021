{
 "cells": [
  {
   "cell_type": "markdown",
   "metadata": {},
   "source": [
    "1\\. Find the total mean, and the mean for each row and column of the following matrix:\n",
    "\n",
    "```python\n",
    "m = np.arange(12).reshape((3,4))\n",
    "```"
   ]
  },
  {
   "cell_type": "code",
   "execution_count": 1,
   "metadata": {},
   "outputs": [],
   "source": [
    "#libraries\n",
    "import numpy as np\n",
    "import matplotlib.pyplot as plt"
   ]
  },
  {
   "cell_type": "code",
   "execution_count": 2,
   "metadata": {},
   "outputs": [
    {
     "name": "stdout",
     "output_type": "stream",
     "text": [
      "Matrix:\n",
      " [[ 0  1  2  3]\n",
      " [ 4  5  6  7]\n",
      " [ 8  9 10 11]]\n",
      "\n",
      "Mean value of all elements:\n",
      " 5.5\n",
      "\n",
      "Mean values for each row:\n",
      " [1.5 5.5 9.5]\n",
      "Mean value for each column:\n",
      " [4. 5. 6. 7.]\n"
     ]
    }
   ],
   "source": [
    "\n",
    "m = np.arange(12).reshape((3,4))\n",
    "print(\"Matrix:\\n\",m)\n",
    "\n",
    "#total mean\n",
    "print(\"\\nMean value of all elements:\\n\",np.mean(m))\n",
    "#mean for each row and for each column\n",
    "print(\"\\nMean values for each row:\\n\",np.mean(m, axis=1))\n",
    "print(\"Mean value for each column:\\n\",np.mean(m,axis=0))"
   ]
  },
  {
   "cell_type": "markdown",
   "metadata": {},
   "source": [
    "2\\. Find the outer product of the following vectors:\n",
    "\n",
    "```python\n",
    "u = np.array([1, 3, 5, 7])\n",
    "v = np.array([2, 4, 6, 8])\n",
    "```\n",
    "\n",
    "Use different methods to do this:\n",
    "\n",
    "   1. Using the function `outer` in numpy\n",
    "   2. Using a nested `for` loop or a list comprehension\n",
    "   3. Using numpy broadcasting operations"
   ]
  },
  {
   "cell_type": "code",
   "execution_count": 3,
   "metadata": {},
   "outputs": [
    {
     "name": "stdout",
     "output_type": "stream",
     "text": [
      "Using outer function of numpy:\n",
      " [[ 2  4  6  8]\n",
      " [ 6 12 18 24]\n",
      " [10 20 30 40]\n",
      " [14 28 42 56]]\n",
      "\n",
      "Nested for method:\n",
      " [[ 2  4  6  8]\n",
      " [ 6 12 18 24]\n",
      " [10 20 30 40]\n",
      " [14 28 42 56]]\n",
      "\n",
      "List compreension:\n",
      " [[ 2  4  6  8]\n",
      " [ 6 12 18 24]\n",
      " [10 20 30 40]\n",
      " [14 28 42 56]]\n",
      "\n",
      "Broadcasting operations:\n",
      " [[ 2  4  6  8]\n",
      " [ 6 12 18 24]\n",
      " [10 20 30 40]\n",
      " [14 28 42 56]]\n"
     ]
    }
   ],
   "source": [
    "u = np.array([1, 3, 5, 7])\n",
    "v = np.array([2, 4, 6, 8])\n",
    "\n",
    "#1)\n",
    "m = np.outer(u,v)\n",
    "print(\"Using outer function of numpy:\\n\", m)\n",
    "\n",
    "#2)\n",
    "#nested for\n",
    "m = [ [ 0 for i in range(len(u)) ] for j in range(len(v)) ]\n",
    "for i in range(len(u)):\n",
    "    for j in range(len(v)):\n",
    "        m[i][j] = u[i]*v[j]\n",
    "print(\"\\nNested for method:\\n\" , np.array(m).reshape(4,4))\n",
    "#list comprehension\n",
    "\n",
    "m = np.array( [i*j for i in u for j in v] ).reshape(4,4)\n",
    "print(\"\\nList compreension:\\n\" , m)\n",
    "        \n",
    "#m=m.reshape((len(u),len(v)))\n",
    "\n",
    "\n",
    "#3) Broadcasting\n",
    "m = np.tile(u,(4,1)).T * np.tile(v,(4,1))\n",
    "print(\"\\nBroadcasting operations:\\n\" , m)\n"
   ]
  },
  {
   "cell_type": "markdown",
   "metadata": {},
   "source": [
    "3\\. Create a 10 by 6 matrix of increasing float numbers, starting from zero and increasing in each step by 0.1, so the output matrix looks like the following:\n",
    "\n",
    "```python\n",
    "m = [[0. 0.1, 0.2 0.3 ... 0.9]\n",
    "     [1.0 1.1 1.2 1.3 ... 1.9]\n",
    "     ...\n",
    "     [5.0 5.1 5.2 5.3 ... 5.9]]\n",
    "```\n",
    "After creating the matrix, set all entries with a decimal part $< 0.4$ to zero."
   ]
  },
  {
   "cell_type": "code",
   "execution_count": 8,
   "metadata": {},
   "outputs": [
    {
     "name": "stdout",
     "output_type": "stream",
     "text": [
      "Original matrix:\n",
      " [[0.  0.1 0.2 0.3 0.4 0.5 0.6 0.7 0.8 0.9]\n",
      " [1.  1.1 1.2 1.3 1.4 1.5 1.6 1.7 1.8 1.9]\n",
      " [2.  2.1 2.2 2.3 2.4 2.5 2.6 2.7 2.8 2.9]\n",
      " [3.  3.1 3.2 3.3 3.4 3.5 3.6 3.7 3.8 3.9]\n",
      " [4.  4.1 4.2 4.3 4.4 4.5 4.6 4.7 4.8 4.9]\n",
      " [5.  5.1 5.2 5.3 5.4 5.5 5.6 5.7 5.8 5.9]]\n",
      "Modified matrix:\n",
      " [[0.  0.  0.  0.  0.4 0.5 0.6 0.7 0.8 0.9]\n",
      " [0.  0.  0.  0.  1.4 1.5 1.6 1.7 1.8 1.9]\n",
      " [0.  0.  0.  0.  2.4 2.5 2.6 2.7 2.8 2.9]\n",
      " [0.  0.  0.  0.  3.4 3.5 3.6 3.7 3.8 3.9]\n",
      " [0.  0.  0.  0.  4.4 4.5 4.6 4.7 4.8 4.9]\n",
      " [0.  0.  0.  0.  5.4 5.5 5.6 5.7 5.8 5.9]]\n"
     ]
    }
   ],
   "source": [
    "m = np.array([[y + 0.1*x for x in range(10)] for y in range(6)])\n",
    "m.reshape(10,6)\n",
    "print(\"Original matrix:\\n\",m)\n",
    "\n",
    "for i in np.arange(0,6):\n",
    "    for j in np.arange(0,10):\n",
    "        if (m[i,j]-i) < 0.39:\n",
    "            m[i,j] = 0\n",
    "            \n",
    "print(\"Modified matrix:\\n\",m)"
   ]
  },
  {
   "cell_type": "markdown",
   "metadata": {},
   "source": [
    "4\\. Use `np.linspace` to create an array of 100 numbers between 0 and 2π (inclusive).\n",
    "\n",
    "  * Extract every 10th element using the slice notation\n",
    "  * Reverse the array using the slice notation\n",
    "  * Extract elements where the absolute difference between the sin and cos functions evaluated for that element is $< 0.1$\n",
    "  * **Optional**: make a plot showing the sin and cos functions and indicate where they are close"
   ]
  },
  {
   "cell_type": "code",
   "execution_count": 8,
   "metadata": {},
   "outputs": [
    {
     "name": "stdout",
     "output_type": "stream",
     "text": [
      "Original array:\n",
      " [0.         0.06346652 0.12693304 0.19039955 0.25386607 0.31733259\n",
      " 0.38079911 0.44426563 0.50773215 0.57119866 0.63466518 0.6981317\n",
      " 0.76159822 0.82506474 0.88853126 0.95199777 1.01546429 1.07893081\n",
      " 1.14239733 1.20586385 1.26933037 1.33279688 1.3962634  1.45972992\n",
      " 1.52319644 1.58666296 1.65012947 1.71359599 1.77706251 1.84052903\n",
      " 1.90399555 1.96746207 2.03092858 2.0943951  2.15786162 2.22132814\n",
      " 2.28479466 2.34826118 2.41172769 2.47519421 2.53866073 2.60212725\n",
      " 2.66559377 2.72906028 2.7925268  2.85599332 2.91945984 2.98292636\n",
      " 3.04639288 3.10985939 3.17332591 3.23679243 3.30025895 3.36372547\n",
      " 3.42719199 3.4906585  3.55412502 3.61759154 3.68105806 3.74452458\n",
      " 3.8079911  3.87145761 3.93492413 3.99839065 4.06185717 4.12532369\n",
      " 4.1887902  4.25225672 4.31572324 4.37918976 4.44265628 4.5061228\n",
      " 4.56958931 4.63305583 4.69652235 4.75998887 4.82345539 4.88692191\n",
      " 4.95038842 5.01385494 5.07732146 5.14078798 5.2042545  5.26772102\n",
      " 5.33118753 5.39465405 5.45812057 5.52158709 5.58505361 5.64852012\n",
      " 5.71198664 5.77545316 5.83891968 5.9023862  5.96585272 6.02931923\n",
      " 6.09278575 6.15625227 6.21971879 6.28318531]\n",
      "\n",
      " Array of 1 element every 10: \n",
      " [0.         0.63466518 1.26933037 1.90399555 2.53866073 3.17332591\n",
      " 3.8079911  4.44265628 5.07732146 5.71198664]\n",
      "\n",
      " Reversed original array: \n",
      " [6.28318531 6.21971879 6.15625227 6.09278575 6.02931923 5.96585272\n",
      " 5.9023862  5.83891968 5.77545316 5.71198664 5.64852012 5.58505361\n",
      " 5.52158709 5.45812057 5.39465405 5.33118753 5.26772102 5.2042545\n",
      " 5.14078798 5.07732146 5.01385494 4.95038842 4.88692191 4.82345539\n",
      " 4.75998887 4.69652235 4.63305583 4.56958931 4.5061228  4.44265628\n",
      " 4.37918976 4.31572324 4.25225672 4.1887902  4.12532369 4.06185717\n",
      " 3.99839065 3.93492413 3.87145761 3.8079911  3.74452458 3.68105806\n",
      " 3.61759154 3.55412502 3.4906585  3.42719199 3.36372547 3.30025895\n",
      " 3.23679243 3.17332591 3.10985939 3.04639288 2.98292636 2.91945984\n",
      " 2.85599332 2.7925268  2.72906028 2.66559377 2.60212725 2.53866073\n",
      " 2.47519421 2.41172769 2.34826118 2.28479466 2.22132814 2.15786162\n",
      " 2.0943951  2.03092858 1.96746207 1.90399555 1.84052903 1.77706251\n",
      " 1.71359599 1.65012947 1.58666296 1.52319644 1.45972992 1.3962634\n",
      " 1.33279688 1.26933037 1.20586385 1.14239733 1.07893081 1.01546429\n",
      " 0.95199777 0.88853126 0.82506474 0.76159822 0.6981317  0.63466518\n",
      " 0.57119866 0.50773215 0.44426563 0.38079911 0.31733259 0.25386607\n",
      " 0.19039955 0.12693304 0.06346652 0.        ]\n",
      "\n",
      "Array of |cos(element)-sin(element)<0.1| =  [0.7615982190520711, 0.8250647373064104, 3.8714576135146945, 3.934924131769034]\n"
     ]
    }
   ],
   "source": [
    "\n",
    "m = np.linspace(0, 2*np.pi , 100 , endpoint = True)\n",
    "print(\"Original array:\\n\",m)\n",
    "\n",
    "#extracting 1 element every 10\n",
    "b = m[::10]\n",
    "print(\"\\n Array of 1 element every 10: \\n\",b)\n",
    "\n",
    "#Reversinging the array\n",
    "reversedB = m[::-1]\n",
    "print(\"\\n Reversed original array: \\n\",reversedB)\n",
    "\n",
    "#Extracting elements where sin(x)+cos(x)<0.1 and finding the region where cos-sin<0.1\n",
    "cosX = []\n",
    "sinX = []\n",
    "\n",
    "x = []\n",
    "n = []\n",
    "\n",
    "diffCos = []\n",
    "diffSin = []\n",
    "\n",
    "xC = []\n",
    "xS = []\n",
    "threshold = 0.1\n",
    "\n",
    "for i in range(len(m)):\n",
    "    \n",
    "    x.append(m[i])\n",
    "    cosX.append(np.cos(m[i]))\n",
    "    sinX.append(np.sin(m[i]))\n",
    "    \n",
    "    if np.abs(np.cos(m[i])-np.sin(m[i])) < threshold or i == 100:\n",
    "        if i == 100:\n",
    "            n.append(m[i])\n",
    "            break\n",
    "        \n",
    "        #setting values of interest \n",
    "        n.append(m[i])\n",
    "        \n",
    "        #setting coordinates of 'sin near cos' for the plot\n",
    "        diffCos.append(np.cos(m[i]))\n",
    "        diffSin.append(np.sin(m[i]))\n",
    "        xC.append(m[i])\n",
    "        xS.append(m[i])\n",
    "        \n",
    "print(\"\\nArray of |cos(element)-sin(element)<0.1| = \",n)         "
   ]
  },
  {
   "cell_type": "code",
   "execution_count": 7,
   "metadata": {},
   "outputs": [
    {
     "data": {
      "text/plain": [
       "<matplotlib.collections.PathCollection at 0x1268e9460>"
      ]
     },
     "execution_count": 7,
     "metadata": {},
     "output_type": "execute_result"
    },
    {
     "data": {
      "image/png": "[encoded data removed]",
      "text/plain": [
       "<Figure size 1008x576 with 1 Axes>"
      ]
     },
     "metadata": {
      "needs_background": "light"
     },
     "output_type": "display_data"
    }
   ],
   "source": [
    "#plot\n",
    "\n",
    "plt.rcParams[\"figure.figsize\"] = (14,8)\n",
    "plt.scatter(x,sinX,s=10, c='b', marker='o')\n",
    "plt.scatter(x,cosX,s=10,c='r',marker='o')\n",
    "            \n",
    "plt.scatter(xC,diffCos,s=20,c='g',marker='o')\n",
    "plt.scatter(xS,diffSin,s=20,c='g',marker='o')\n"
   ]
  },
  {
   "cell_type": "code",
   "execution_count": null,
   "metadata": {},
   "outputs": [],
   "source": []
  },
  {
   "cell_type": "markdown",
   "metadata": {},
   "source": [
    "5\\. Create a matrix that shows the 10 by 10 multiplication table.\n",
    "\n",
    " * Find the trace of the matrix\n",
    " * Extract the anti-diagonal matrix (this should be ```array([10, 18, 24, 28, 30, 30, 28, 24, 18, 10])```)\n",
    " * Extract the diagonal offset by 1 upwards (this should be ```array([ 2,  6, 12, 20, 30, 42, 56, 72, 90])```)"
   ]
  },
  {
   "cell_type": "code",
   "execution_count": 6,
   "metadata": {},
   "outputs": [
    {
     "name": "stdout",
     "output_type": "stream",
     "text": [
      "\n",
      " Matrix:\n",
      " [[  1   2   3   4   5   6   7   8   9  10]\n",
      " [  2   4   6   8  10  12  14  16  18  20]\n",
      " [  3   6   9  12  15  18  21  24  27  30]\n",
      " [  4   8  12  16  20  24  28  32  36  40]\n",
      " [  5  10  15  20  25  30  35  40  45  50]\n",
      " [  6  12  18  24  30  36  42  48  54  60]\n",
      " [  7  14  21  28  35  42  49  56  63  70]\n",
      " [  8  16  24  32  40  48  56  64  72  80]\n",
      " [  9  18  27  36  45  54  63  72  81  90]\n",
      " [ 10  20  30  40  50  60  70  80  90 100]]\n",
      "\n",
      "\n",
      "Matrix diagonal:\n",
      " [  1   4   9  16  25  36  49  64  81 100]\n",
      "\n",
      "Trace of the matrix: 385\n",
      "\n",
      "Antidiagonal: [10 18 24 28 30 30 28 24 18 10]\n",
      "\n",
      "Diagonal (offset = 1 upwards):\n",
      " [ 2  6 12 20 30 42 56 72 90]\n"
     ]
    }
   ],
   "source": [
    "m = np.tile(np.arange(1,11),(10,1)) #10x10 original matrix\n",
    "multiplicated = m*m.T  #multiplication to find the requested matrix\n",
    "#finding the trace:\n",
    "                            \n",
    "print(\"\\n Matrix:\\n\",multiplicated)\n",
    "\n",
    "#finding the trace\n",
    "print(\"\\n\\nMatrix diagonal:\\n\",np.diag(multiplicated))\n",
    "print(\"\\nTrace of the matrix:\", np.trace(multiplicated))\n",
    "\n",
    "#by reversing each row we can find the anti-diagonal \n",
    "print(\"\\nAntidiagonal:\", np.diag(multiplicated[:][::-1])) \n",
    "\n",
    "#finding the diagonal shifted by 1 unit above\n",
    "print(\"\\nDiagonal (offset = 1 upwards):\\n\", np.diag(multiplicated, 1))"
   ]
  },
  {
   "cell_type": "markdown",
   "metadata": {},
   "source": [
    "6\\. Use broadcasting to create a grid of distances.\n",
    "\n",
    "Route 66 crosses the following cities in the US: Chicago, Springfield, Saint-Louis, Tulsa, Oklahoma City, Amarillo, Santa Fe, Albuquerque, Flagstaff, Los Angeles\n",
    "The corresponding positions in miles are: 0, 198, 303, 736, 871, 1175, 1475, 1544, 1913, 2448\n",
    "\n",
    "  * Build a 2D grid of distances among each city along Route 66\n",
    "  * Convert the distances in km"
   ]
  },
  {
   "cell_type": "code",
   "execution_count": 7,
   "metadata": {},
   "outputs": [
    {
     "name": "stdout",
     "output_type": "stream",
     "text": [
      "Distances in Miles:\n",
      "\n",
      " [[   0  198  303  736  871 1175 1475 1544 1913 2448]\n",
      " [ 198    0  105  538  673  977 1277 1346 1715 2250]\n",
      " [ 303  105    0  433  568  872 1172 1241 1610 2145]\n",
      " [ 736  538  433    0  135  439  739  808 1177 1712]\n",
      " [ 871  673  568  135    0  304  604  673 1042 1577]\n",
      " [1175  977  872  439  304    0  300  369  738 1273]\n",
      " [1475 1277 1172  739  604  300    0   69  438  973]\n",
      " [1544 1346 1241  808  673  369   69    0  369  904]\n",
      " [1913 1715 1610 1177 1042  738  438  369    0  535]\n",
      " [2448 2250 2145 1712 1577 1273  973  904  535    0]]\n",
      "\n",
      "\n",
      "Distances in km:\n",
      "\n",
      " [[   0.       318.64932  487.63002 1184.47424 1401.73514 1890.9745\n",
      "  2373.7765  2484.82096 3078.66742 3939.66432]\n",
      " [ 318.64932    0.       168.9807   865.82492 1083.08582 1572.32518\n",
      "  2055.12718 2166.17164 2760.0181  3621.015  ]\n",
      " [ 487.63002  168.9807     0.       696.84422  914.10512 1403.34448\n",
      "  1886.14648 1997.19094 2591.0374  3452.0343 ]\n",
      " [1184.47424  865.82492  696.84422    0.       217.2609   706.50026\n",
      "  1189.30226 1300.34672 1894.19318 2755.19008]\n",
      " [1401.73514 1083.08582  914.10512  217.2609     0.       489.23936\n",
      "   972.04136 1083.08582 1676.93228 2537.92918]\n",
      " [1890.9745  1572.32518 1403.34448  706.50026  489.23936    0.\n",
      "   482.802    593.84646 1187.69292 2048.68982]\n",
      " [2373.7765  2055.12718 1886.14648 1189.30226  972.04136  482.802\n",
      "     0.       111.04446  704.89092 1565.88782]\n",
      " [2484.82096 2166.17164 1997.19094 1300.34672 1083.08582  593.84646\n",
      "   111.04446    0.       593.84646 1454.84336]\n",
      " [3078.66742 2760.0181  2591.0374  1894.19318 1676.93228 1187.69292\n",
      "   704.89092  593.84646    0.       860.9969 ]\n",
      " [3939.66432 3621.015   3452.0343  2755.19008 2537.92918 2048.68982\n",
      "  1565.88782 1454.84336  860.9969     0.     ]]\n"
     ]
    }
   ],
   "source": [
    "def distance(x):\n",
    "    d = np.tile( x, (len(x), 1) )   \n",
    "    d=np.abs(d-d.T)\n",
    "    return d \n",
    "\n",
    "Cities = np.array([ \"Chicago\", \"Springfield\", \"Saint-Louis\", \"Tulsa\", \"Oklahoma City\", \"Amarillo\", \"Santa Fe\", \n",
    "\"Albuquerque\", \"Flagstaff\", \"Los Angeles\" ])\n",
    "\n",
    "xMiles = np.array([0, 198, 303, 736, 871, 1175, 1475, 1544, 1913, 2448])\n",
    "MilesDistance = distance(xMiles)\n",
    "print(\"Distances in Miles:\\n\\n\",MilesDistance)\n",
    "\n",
    "#in order to convert in km\n",
    "MilesToKm = 1.60934\n",
    "print(\"\\n\\nDistances in km:\\n\\n\",MilesDistance*MilesToKm)"
   ]
  },
  {
   "cell_type": "markdown",
   "metadata": {},
   "source": [
    "7\\. Prime numbers sieve: compute the prime numbers in the 0-N (start with N=99) range with a sieve (mask).\n",
    "  * Check the performances (timeit); how does it scale with N?\n",
    "  * Implement the optimization suggested in the [sieve of Eratosthenes](https://en.wikipedia.org/wiki/Sieve_of_Eratosthenes)"
   ]
  },
  {
   "cell_type": "code",
   "execution_count": 9,
   "metadata": {},
   "outputs": [
    {
     "name": "stdout",
     "output_type": "stream",
     "text": [
      "Computation time needed with N = 99:\n",
      "3.05 µs ± 1.6 ns per loop (mean ± std. dev. of 7 runs, 100000 loops each)\n",
      "Computation time with N = 100\n",
      "3.06 µs ± 5.11 ns per loop (mean ± std. dev. of 7 runs, 100000 loops each)\n",
      "Computation time with N = 200\n",
      "5.63 µs ± 3.23 ns per loop (mean ± std. dev. of 7 runs, 100000 loops each)\n",
      "Computation time with N = 300\n",
      "8.17 µs ± 3.73 ns per loop (mean ± std. dev. of 7 runs, 100000 loops each)\n",
      "Computation time with N = 400\n",
      "10.7 µs ± 7.12 ns per loop (mean ± std. dev. of 7 runs, 100000 loops each)\n",
      "Computation time with N = 500\n",
      "13.3 µs ± 48.4 ns per loop (mean ± std. dev. of 7 runs, 100000 loops each)\n"
     ]
    }
   ],
   "source": [
    "n = np.arange(0,100)\n",
    "\n",
    "b = False\n",
    "#function to compute if the number is prime\n",
    "def Prime(x):\n",
    "    b = False\n",
    "    if x>2:\n",
    "        for i in np.arange(2,x):\n",
    "            if x % i == 0:\n",
    "                b = True\n",
    "                break\n",
    "            if b == True:\n",
    "                return False\n",
    "        return True\n",
    "                \n",
    "                \n",
    "        \n",
    "    else:\n",
    "        return False\n",
    "    \n",
    "mask = [Prime(j) for j in n]\n",
    "print(\"Computation time needed with N = 99:\",)\n",
    "%timeit nPrime = n[mask]\n",
    "\n",
    "N = [100,200,300,400,500]\n",
    "\n",
    "for i in N:\n",
    "    n2 = np.arange(0,i)\n",
    "    mask2 = [Prime(x) for x in n2]\n",
    "    print('Computation time with N =',i)\n",
    "    %timeit nPrimeBis = n2[mask2]"
   ]
  },
  {
   "cell_type": "code",
   "execution_count": 47,
   "metadata": {},
   "outputs": [
    {
     "data": {
      "image/png": "[encoded data removed]",
      "text/plain": [
       "<Figure size 720x432 with 1 Axes>"
      ]
     },
     "metadata": {
      "needs_background": "light"
     },
     "output_type": "display_data"
    },
    {
     "name": "stdout",
     "output_type": "stream",
     "text": [
      "Fit Parameters:\n",
      "Slope = 0.02555 \n",
      "Constant = 0.5069999999999992\n"
     ]
    }
   ],
   "source": [
    "import matplotlib.pyplot as plt\n",
    "\n",
    "\n",
    "dT = [3.06, 5.63, 8.17, 10.7, 13.3]\n",
    "m,b = np.polyfit(N, dT, 1) #fit parameters\n",
    "a = [i*m+b for i in N] #fit function values\n",
    "\n",
    "\n",
    "\n",
    "plt.rcParams[\"figure.figsize\"] = (10,6) \n",
    "\n",
    "plt.xlabel(\"N values\")\n",
    "plt.ylabel(\"Time requested [us]\")\n",
    "\n",
    "plt.scatter(N,dT,s=30,c='g',marker='o')\n",
    "plt.plot(N, a,\"-\",color='r')\n",
    "\n",
    "plt.show()\n",
    "\n",
    "print(\"Fit Parameters:\")\n",
    "print(\"Slope =\",m,\"\\nConstant =\",b)"
   ]
  },
  {
   "cell_type": "code",
   "execution_count": null,
   "metadata": {},
   "outputs": [],
   "source": []
  }
 ],
 "metadata": {
  "kernelspec": {
   "display_name": "Python 3 (ipykernel)",
   "language": "python",
   "name": "python3"
  },
  "language_info": {
   "codemirror_mode": {
    "name": "ipython",
    "version": 3
   },
   "file_extension": ".py",
   "mimetype": "text/x-python",
   "name": "python",
   "nbconvert_exporter": "python",
   "pygments_lexer": "ipython3",
   "version": "3.9.6"
  }
 },
 "nbformat": 4,
 "nbformat_minor": 2
}
