{
 "cells": [
  {
   "cell_type": "markdown",
   "metadata": {},
   "source": [
    "1\\. Write a function that converts numbers among the bin, dec, and hex representations (bin<->dec<->hex)"
   ]
  },
  {
   "cell_type": "code",
   "execution_count": 9,
   "metadata": {},
   "outputs": [
    {
     "name": "stdout",
     "output_type": "stream",
     "text": [
      "set x value:9\n",
      "Set a base between dec,bin,hex:hello\n",
      "You did not ask for one of the basis options. Please set a base between dec,bin,hex:9\n",
      "Set a base between dec,bin,hex:dec\n",
      "\n",
      "\n",
      "Conversion of the number inserted in (binary,decimal,hexadecimal): \n",
      "('0b1001', 9, '0x9')\n"
     ]
    }
   ],
   "source": [
    "def conversion(x, base):\n",
    "    \n",
    "    if base==\"bin\":\n",
    "        return(x, int(x, 2), hex(int(x, 2)))\n",
    "    \n",
    "    elif base==\"dec\":\n",
    "        return(bin(x), x, hex(x))\n",
    "    \n",
    "    elif base==\"hex\":\n",
    "        return(bin(int(x, 16)), int(x, 16), x)\n",
    "    \n",
    "x= input(\"set x value:\")\n",
    "base=\"x\"\n",
    "\n",
    "#just a check in order to let the user insert one of the allowed basis\n",
    "while base != \"bin\" and base!=\"dec\" and base!=\"hex\":\n",
    "    base= input(\"Set a base between dec,bin,hex:\")\n",
    "    if base== \"bin\" or base==\"dec\" or base==\"hex\":\n",
    "        if base==\"dec\":\n",
    "            x=int(x)\n",
    "        break\n",
    "    else:\n",
    "        base= input(\"You did not ask for one of the basis options. Please set a base between dec,bin,hex:\")\n",
    "        \n",
    "\n",
    "\n",
    "print(\"\\n\\nConversion of the number inserted in (binary,decimal,hexadecimal): \")\n",
    "print(conversion(x, base))"
   ]
  },
  {
   "cell_type": "markdown",
   "metadata": {},
   "source": [
    "2\\. Write a function that converts a 32 bit word into a single precision floating point (i.e. interprets the various bits as sign, mantissa and exponent) and check its validity."
   ]
  },
  {
   "cell_type": "code",
   "execution_count": 12,
   "metadata": {},
   "outputs": [
    {
     "name": "stdout",
     "output_type": "stream",
     "text": [
      "The 32 bit word is: \n",
      " 11000001100011011101010001101010\n",
      "Single precision floating point representation:\n",
      " -17.728717803955078\n"
     ]
    }
   ],
   "source": [
    "#Setting the 32 bit word \n",
    "\n",
    "\n",
    "\n",
    "def stringToFloat(string):\n",
    "    \n",
    "    #checking if the user inserted a 32bit string. \n",
    "    if not isinstance(string, str):  \n",
    "        # if the input is not a 32 bit string, gives error\n",
    "        raise TypeError(\"Not allowed input!\")\n",
    "    elif len(string) != 32:\n",
    "        raise TypeError(\"Not allowed input!\")\n",
    "    #if the input is fine, we can now compute the conversion    \n",
    "    else:\n",
    "        sign = string[0]\n",
    "        exp = string[1:9]\n",
    "        mant =string[9:31]\n",
    "\n",
    "        exp_=int(exp, 2)-127\n",
    "        mant_=1\n",
    "        #compute mantissa\n",
    "        for j in range(len(mant)):\n",
    "            mant_+=int(mant[j])*2**(-1-j)\n",
    "            \n",
    "        floatNumber=(-1)**int(sign) * mant_ * 2**exp_\n",
    "        return floatNumber\n",
    "\n",
    "    \n",
    "word = '11000001100011011101010001101010'\n",
    "\n",
    "print(\"The 32 bit word is:\\n\", word)\n",
    "print(f\"Single precision floating point representation:\\n\", stringToFloat(word))\n"
   ]
  },
  {
   "cell_type": "markdown",
   "metadata": {},
   "source": [
    "3\\. Write a program to determine the underflow and overflow limits (within a factor of 2) for python on your computer. \n",
    "\n",
    "**Tip**: define two variables initialized to 1 and halve/double them for a sufficient amount of times to exceed the under/over-flow limits  "
   ]
  },
  {
   "cell_type": "code",
   "execution_count": 13,
   "metadata": {
    "scrolled": true
   },
   "outputs": [
    {
     "name": "stdout",
     "output_type": "stream",
     "text": [
      "Underflow limit value: approx 5e-324 \n",
      " reached after 1074 iterations\n",
      "Overflow limit value: approx 9007199254740992.0 \n",
      " reached after 1127 iterations\n"
     ]
    }
   ],
   "source": [
    "n=1\n",
    "i=0\n",
    "\n",
    "while n>0 :\n",
    "    n = n/2\n",
    "    i = i+1\n",
    "    if n/2 == 0:\n",
    "        print(\"Underflow limit value: approx\", n , \"\\n reached after\" , i , \"iterations\")\n",
    "        i = i+1\n",
    "        break\n",
    "n1 = 1\n",
    "i = 0\n",
    "while n+1 != n:\n",
    "    n = n*2\n",
    "    i = i+1\n",
    "    if n+1 == n:\n",
    "        print(\"Overflow limit value: approx\",n,\"\\n reached after\",i,\"iterations\")\n",
    "        i = i+1\n",
    "        break\n"
   ]
  },
  {
   "cell_type": "code",
   "execution_count": 93,
   "metadata": {},
   "outputs": [
    {
     "name": "stdout",
     "output_type": "stream",
     "text": [
      "The real precision is:\n",
      " 2.220446049250313e-16\n"
     ]
    }
   ],
   "source": [
    "#precise result\n",
    "import numpy as np\n",
    "print(\"The real precision is:\\n\", np.finfo(float).eps)"
   ]
  },
  {
   "cell_type": "markdown",
   "metadata": {},
   "source": [
    "4\\. Write a program to determine the machine precision\n",
    "\n",
    "**Tip**: define a new variable by adding an increasingly smaller value (in the same way as the previous problem) and check when the addition starts to have no effect on the number"
   ]
  },
  {
   "cell_type": "code",
   "execution_count": 14,
   "metadata": {},
   "outputs": [
    {
     "name": "stdout",
     "output_type": "stream",
     "text": [
      "Last number reached:\n",
      " 1.0000000000000002 \n",
      "So our precision is:\n",
      " 1e-16\n"
     ]
    }
   ],
   "source": [
    "n = 1\n",
    "epsilon = 1\n",
    "n1 = n+epsilon\n",
    "while n1 != n:\n",
    "    epsilon = epsilon/2\n",
    "    n1 = n+epsilon\n",
    "    if n+epsilon/2 == n:\n",
    "        print(\"Last number reached:\\n\" , n1 , \"\\nSo our precision is:\\n\" , 10**(-len(str(n1))+2))#+2 for the \"1.\" characters\n",
    "        break\n"
   ]
  },
  {
   "cell_type": "markdown",
   "metadata": {},
   "source": [
    "5\\. Write a function that takes in input three parameters $a$, $b$ and $c$ and prints out the two solutions to the quadratic equation $ax^2+bx+c=0$ using the standard formula:\n",
    "$$\n",
    "x=\\frac{-b\\pm\\sqrt{b^2-4ac}}{2a}\n",
    "$$\n",
    "\n",
    "(a) use the program to compute the solution for $a=0.001$, $b=1000$ and $c=0.001$\n",
    "\n",
    "(b) re-express the standard solution formula by multiplying the numerator and the denominator by $-b\\mp\\sqrt{b^2-4ac}$ and again find the solution for $a=0.001$, $b=1000$ and $c=0.001$. How does it compare with what has been previously obtained, and why?\n",
    "\n",
    "(c) write a function that computes the roots of a quadratic equation accurately in all cases"
   ]
  },
  {
   "cell_type": "code",
   "execution_count": 17,
   "metadata": {},
   "outputs": [
    {
     "name": "stdout",
     "output_type": "stream",
     "text": [
      "Our equation is 0.001 x^2 + 1000 x + 0.001 = 0\n",
      "\n",
      "Our solutions should be:\n",
      "\n",
      "->Standard method:\n",
      " (-9.999894245993346e-07, -999999.999999)\n",
      "->Different method:\n",
      " (-1.000000000001e-06, -1000010.5755125057)\n",
      "->Stable method:\n",
      " (-1.000000000001e-06, -999999.999999)\n"
     ]
    }
   ],
   "source": [
    "import numpy as np\n",
    "\n",
    "# a)\n",
    "def solution_std(a,b,c):\n",
    "\n",
    "    if (b**2-4*a*c)<0:\n",
    "        raise ValueError ('Delta<0 -->no real solutions')\n",
    "    else:\n",
    "        x_1=(-b+np.sqrt(b**2-4*a*c))/(2*a)\n",
    "        x_2=(-b-np.sqrt(b**2-4*a*c))/(2*a)\n",
    "        return x_1, x_2\n",
    "\n",
    "#b)\n",
    "def solution_bis(a,b,c):\n",
    "    if (b**2-4*a*c)<0:\n",
    "        raise ValueError ('Delta<0 -->no real solutions')\n",
    "    else:\n",
    "        x_1=(2*c)/(-b - np.sqrt(b**2-4*a*c))\n",
    "        x_2=(2*c)/(-b + np.sqrt(b**2-4*a*c))\n",
    "        return x_1,x_2\n",
    "\n",
    "#c)\n",
    "def solution_accurate(a,b,c):\n",
    "    if (b**2-4*a*c)<0:\n",
    "        raise ValueError ('Delta<0 -->no real solutions')\n",
    "    \n",
    "    else:\n",
    "        x_1 = (2*c)/(-b - np.sqrt(b**2-4*a*c))\n",
    "        x_2 = (-b - np.sqrt(b**2-4*a*c))/(2*a)\n",
    "        return x_1,x_2\n",
    "    \n",
    "    \n",
    "a=c=0.001\n",
    "b=1000\n",
    "                                        \n",
    "print(\"Our equation is\",a,\"x^2 +\",b,\"x +\",c,\"= 0\\n\")\n",
    "\n",
    "print(\"Our solutions should be:\\n\")\n",
    "\n",
    "print(\"->Standard method:\\n\",solution_std(a,b,c))\n",
    "print(\"->Different method:\\n\",solution_bis(a,b,c))\n",
    "print(\"->Stable method:\\n\", solution_accurate(a,b,c))"
   ]
  },
  {
   "cell_type": "markdown",
   "metadata": {},
   "source": [
    "6\\. Write a program that implements the function $f(x)=x(x−1)$\n",
    "\n",
    "(a) Calculate the derivative of the function at the point $x = 1$ using the derivative definition:\n",
    "\n",
    "$$\n",
    "\\frac{{\\rm d}f}{{\\rm d}x} = \\lim_{\\delta\\to0} \\frac{f(x+\\delta)-f(x)}{\\delta}\n",
    "$$\n",
    "\n",
    "with $\\delta = 10^{−2}$. Calculate the true value of the same derivative analytically and compare it with the answer your program gives. The two will not agree perfectly. Why?\n",
    "\n",
    "(b) Repeat the calculation for $\\delta = 10^{−4}, 10^{−6}, 10^{−8}, 10^{−10}, 10^{−12}$ and $10^{−14}$. How does the accuracy scales with $\\delta$?"
   ]
  },
  {
   "cell_type": "code",
   "execution_count": 65,
   "metadata": {},
   "outputs": [
    {
     "name": "stdout",
     "output_type": "stream",
     "text": [
      "Derivative of f(x)=x*(x-1) at x=1 with fixed delta=0.01:\n",
      " 1.010000000000001\n",
      "Real derivative:\n",
      " 1.0 \n",
      "\n",
      "Delta= 0.0001 |Derivative= 1.0000999999998899 |Accuracy= 0.009999999988985486 \n",
      "\n",
      "Delta= 1e-06 |Derivative= 1.0000009999177333 |Accuracy= 9.99917733279787e-05 \n",
      "\n",
      "Delta= 1e-08 |Derivative= 1.0000000039225287 |Accuracy= 3.9225287462585356e-07 \n",
      "\n",
      "Delta= 1e-10 |Derivative= 1.000000082840371 |Accuracy= 8.284037100736441e-06 \n",
      "\n",
      "Delta= 1e-12 |Derivative= 1.0000889005833413 |Accuracy= 0.008890058334132256 \n",
      "\n",
      "Delta= 1e-14 |Derivative= 0.9992007221626509 |Accuracy= 0.07992778373491216 \n",
      "\n",
      "\n",
      "\n",
      " As we can see in the following graph, the difference between the real derivative value and the computational one\n",
      "is minimal when delta has values between 1e-10 and 1e-06 ,then it starts to grow again\n"
     ]
    },
    {
     "data": {
      "image/png": "[encoded data removed]",
      "text/plain": [
       "<Figure size 432x288 with 1 Axes>"
      ]
     },
     "metadata": {
      "needs_background": "light"
     },
     "output_type": "display_data"
    }
   ],
   "source": [
    "import numpy as np\n",
    "import matplotlib.pyplot as plt\n",
    "\n",
    "#a)\n",
    "x=1\n",
    "def f(x):\n",
    "    return x*(x-1)\n",
    "\n",
    "df=(f(x+0.01)-f(x))/0.01\n",
    "\n",
    "print(\"Derivative of f(x)=x*(x-1) at x=1 with fixed delta=0.01:\\n\",df)\n",
    "print(\"Real derivative:\\n\",float(2*x-1),\"\\n\")\n",
    "\n",
    "#b)\n",
    "\n",
    "deltas=[]\n",
    "deltas.append(10**(-4))\n",
    "accuracy=[]\n",
    "df=[]\n",
    "i=0\n",
    "\n",
    "while deltas[i]>=10**(-12):\n",
    "    df.append((f(x+deltas[i])-f(x))/deltas[i])\n",
    "    accuracy.append((np.abs(float(2*x-1)-df[i])*100))\n",
    "    \n",
    "    print(\"Delta=\",deltas[i],\"|Derivative=\",df[i],\"|Accuracy=\",accuracy[i],\"\\n\")\n",
    "    i+=1\n",
    "    deltas.append(deltas[i-1]/100)\n",
    "    \n",
    "    if deltas[i]==10**(-14):\n",
    "        df.append((f(x+deltas[i])-f(x))/deltas[i])\n",
    "        accuracy.append((np.abs(float(2*x-1)-df[i])*100))\n",
    "        print(\"Delta=\",deltas[i],\"|Derivative=\",df[i],\"|Accuracy=\",accuracy[i],\"\\n\")\n",
    "        break\n",
    "\n",
    "        \n",
    "plt.xlabel(\"$\\delta$ (log scale)\")\n",
    "plt.ylabel(\"accuracy\")\n",
    "plt.xscale('log', base=10)\n",
    "plt.plot(deltas, accuracy, linewidth=2, markersize=12, marker='.', fillstyle='none', \n",
    "         color=\"red\", markeredgewidth=3)\n",
    "print(\"\\n\\n As we can see in the following graph, the difference between the real derivative value and the computational one\")\n",
    "print(\"is minimal when delta has values between\", 10**(-10),\"and\",10**(-6),\",then it starts to grow again\")\n"
   ]
  },
  {
   "cell_type": "markdown",
   "metadata": {},
   "source": [
    "7\\. Consider the integral of the semicircle of radius 1:\n",
    "$$\n",
    "I=\\int_{-1}^{1} \\sqrt(1-x^2) {\\rm d}x\n",
    "$$\n",
    "which is known to be $I=\\frac{\\pi}{2}=1.57079632679...$.\n",
    "\n",
    "Alternatively we can use the Riemann definition of the integral:\n",
    "$$\n",
    "I=\\lim_{N\\to\\infty} \\sum_{k=1}^{N} h y_k \n",
    "$$\n",
    "\n",
    "with $h=2/N$ the width of each of the $N$ slices the domain is divided into and where\n",
    "$y_k$ is the value of the function at the $k-$th slice.\n",
    "\n",
    "(a) Write a program to compute the integral with $N=100$. How does the result compare to the true value?\n",
    "\n",
    "(b) How much can $N$ be increased if the computation needs to be run in less than a second? What is the gain in running it for 1 minute? \n"
   ]
  },
  {
   "cell_type": "code",
   "execution_count": 19,
   "metadata": {
    "scrolled": true
   },
   "outputs": [
    {
     "name": "stdout",
     "output_type": "stream",
     "text": [
      "Result with our Riemann method: 1.5691342555492505\n",
      "Absolute difference with true result: 0.0016620712456461018\n",
      "Relative error (Riemann/true): 0.24973547314548453\n",
      "\n",
      "Integration with N= 109200000 results: 1.5707963267934217\n",
      "Absolute difference with true result: 1.474820265912058e-12\n",
      "Relative error (Riemann/true): 0.24999999999976527\n",
      "Integration time= 57.238606999999995\n"
     ]
    }
   ],
   "source": [
    "import time\n",
    "import numpy as np\n",
    "import math\n",
    "int=0\n",
    "#a)\n",
    "\n",
    "def f(x):\n",
    "    return np.sqrt(1-x**2)\n",
    "\n",
    "def integrate(N,inf,sup):\n",
    "    integral=0\n",
    "    for k in range(1,N+1):\n",
    "        h=(sup-inf)/N\n",
    "        integral=integral+f(inf+h*k)*h\n",
    "    return integral\n",
    "    \n",
    "    \n",
    "print(\"Result with our Riemann method:\",integrate(100,-1,1))\n",
    "print(\"Absolute difference with true result:\",np.abs(integrate(100,-1,1)-math.pi/2))\n",
    "print(\"Relative error (Riemann/true):\",np.abs(integrate(100,-1,1)/math.pi/2))\n",
    "\n",
    "#b)\n",
    "\n",
    "N = 1560000 * 70 #almost 60 seconds of process\n",
    "\n",
    "timeI = time.process_time()\n",
    "\n",
    "integralValue = integrate(N,-1,1)\n",
    "# compute the integration time\n",
    "timeF = time.process_time() - timeI\n",
    "\n",
    "print(\"\\nIntegration with N=\",N,\"results:\",integralValue)\n",
    "print(\"Absolute difference with true result:\",np.abs(integralValue-math.pi/2))\n",
    "print(\"Relative error (Riemann/true):\",np.abs(integralValue/math.pi/2))\n",
    "print(\"Integration time=\", timeF)"
   ]
  },
  {
   "cell_type": "code",
   "execution_count": null,
   "metadata": {},
   "outputs": [],
   "source": []
  }
 ],
 "metadata": {
  "kernelspec": {
   "display_name": "Python 3 (ipykernel)",
   "language": "python",
   "name": "python3"
  },
  "language_info": {
   "codemirror_mode": {
    "name": "ipython",
    "version": 3
   },
   "file_extension": ".py",
   "mimetype": "text/x-python",
   "name": "python",
   "nbconvert_exporter": "python",
   "pygments_lexer": "ipython3",
   "version": "3.9.6"
  }
 },
 "nbformat": 4,
 "nbformat_minor": 2
}
