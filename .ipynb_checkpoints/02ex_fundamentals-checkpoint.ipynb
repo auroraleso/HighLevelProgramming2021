{
 "cells": [
  {
   "cell_type": "markdown",
   "metadata": {},
   "source": [
    "1. Write the following expressions using the list comprehension"
   ]
  },
  {
   "cell_type": "code",
   "execution_count": 1,
   "metadata": {},
   "outputs": [
    {
     "name": "stdout",
     "output_type": "stream",
     "text": [
      "[(0, 0), (0, 1), (0, 2), (0, 3), (1, 0), (1, 1), (1, 2), (1, 3), (2, 0), (2, 1), (2, 2), (2, 3)]\n",
      "[1, 9, 25, 49, 81]\n"
     ]
    }
   ],
   "source": [
    "# 1\n",
    "ans = []\n",
    "for i in range(3):\n",
    "    for j in range(4):\n",
    "        ans.append((i, j))\n",
    "print(ans)\n",
    "\n",
    "# 2\n",
    "ans = map(lambda x: x * x, filter(lambda x: x % 2 == 1, range(10)))\n",
    "print(list(ans))"
   ]
  },
  {
   "cell_type": "code",
   "execution_count": 24,
   "metadata": {},
   "outputs": [
    {
     "name": "stdout",
     "output_type": "stream",
     "text": [
      "[(0, 0), (0, 1), (0, 2), (0, 3), (1, 0), (1, 1), (1, 2), (1, 3), (2, 0), (2, 1), (2, 2), (2, 3)]\n",
      "[1, 9, 25, 49, 81]\n"
     ]
    }
   ],
   "source": [
    "#1\n",
    "ans=[(x,y) for x in range (3) for y in range(4)]\n",
    "print(ans)\n",
    "\n",
    "#2\n",
    "ans2=[i**2 for i in range(10) if i%2==1]\n",
    "print(ans2)"
   ]
  },
  {
   "cell_type": "markdown",
   "metadata": {},
   "source": [
    "2\\. Convert the function $f$ into a function that doesn't use global variables and that does not modify the original list"
   ]
  },
  {
   "cell_type": "code",
   "execution_count": 34,
   "metadata": {},
   "outputs": [
    {
     "name": "stdout",
     "output_type": "stream",
     "text": [
      "The original list is:\n",
      " [1, 2, 3]\n",
      "The modified list is:\n",
      " [1, 2, 3, 0, 1, 2, 3, 4]\n",
      "The original list has become:\n",
      "  [1, 2, 3, 0, 1, 2, 3, 4]\n"
     ]
    }
   ],
   "source": [
    "x = 5\n",
    "def f(alist):\n",
    "    for i in range(x):\n",
    "         alist.append(i)\n",
    "    return alist\n",
    "\n",
    "alist = [1,2,3]\n",
    "print(\"The original list is:\\n\",alist)\n",
    "ans = f(alist)\n",
    "print(\"The modified list is:\\n\",ans)\n",
    "print(\"The original list has become:\\n \",alist)"
   ]
  },
  {
   "cell_type": "code",
   "execution_count": 6,
   "metadata": {},
   "outputs": [
    {
     "name": "stdout",
     "output_type": "stream",
     "text": [
      "The original list is:\n",
      " [1, 2, 3]\n",
      "The modified list is:\n",
      " [1, 2, 3, 0, 1, 2]\n",
      "The original list has become:\n",
      "  [1, 2, 3]\n"
     ]
    }
   ],
   "source": [
    "#old version. \n",
    "def f_unmodified(alist,n):\n",
    "    list2=[]\n",
    "    for i in alist:\n",
    "        list2.append(i)\n",
    "    for j in range(n):\n",
    "        list2.append(j)\n",
    "    return list2\n",
    "        \n",
    "alist=[1,2,3]\n",
    "print(\"The original list is:\\n\",alist)\n",
    "ans=f_unmodified(alist,3)\n",
    "print(\"The modified list is:\\n\",ans)\n",
    "print(\"The original list has become:\\n \",alist)"
   ]
  },
  {
   "cell_type": "code",
   "execution_count": 8,
   "metadata": {},
   "outputs": [
    {
     "name": "stdout",
     "output_type": "stream",
     "text": [
      "The original list is:\n",
      " [1, 2, 3]\n",
      "The modified list is:\n",
      " [1, 2, 3, 0, 1, 2, 3, 4]\n",
      "The original list has become:\n",
      " [1, 2, 3]\n"
     ]
    }
   ],
   "source": [
    "#not sure this makes sense actually\n",
    "def f(lista = None):\n",
    "    if lista is None:\n",
    "        lista = []\n",
    "    for i in range(5):\n",
    "             lista.append(i)\n",
    "    return lista\n",
    "\n",
    "lista = [1,2,3]\n",
    "print(\"The original list is:\\n\",lista)\n",
    "mod=f(lista = [1,2,3])\n",
    "print(\"The modified list is:\\n\",mod)\n",
    "print(\"The original list has become:\\n\",lista)"
   ]
  },
  {
   "cell_type": "markdown",
   "metadata": {},
   "source": [
    "3\\. Write a `decorator` hello that makes every wrapped function print “Hello!”, i.e. something like:\n",
    "\n",
    "```python\n",
    "@hello\n",
    "def square(x):\n",
    "    return x*x\n",
    "```\n",
    "\n"
   ]
  },
  {
   "cell_type": "code",
   "execution_count": 14,
   "metadata": {},
   "outputs": [
    {
     "name": "stdout",
     "output_type": "stream",
     "text": [
      "Hello\n",
      "16\n",
      "World\n"
     ]
    }
   ],
   "source": [
    "def my_decorator(func):\n",
    "    def wrapper(x):\n",
    "        print(\"Hello\")\n",
    "        func(x)\n",
    "        print(\"World\")\n",
    "    return wrapper\n",
    "\n",
    "@my_decorator #syntax!!\n",
    "def square(x):\n",
    "    print(x**2)\n",
    "    return x*x\n",
    "x=4\n",
    "square(x)"
   ]
  },
  {
   "cell_type": "markdown",
   "metadata": {},
   "source": [
    "4\\. Write the factorial function in two different ways, so that it a) does and b) does not use recursion."
   ]
  },
  {
   "cell_type": "code",
   "execution_count": 35,
   "metadata": {},
   "outputs": [
    {
     "name": "stdout",
     "output_type": "stream",
     "text": [
      "Recursive result:\n",
      " 24\n",
      "No recursive result:\n",
      " 24\n"
     ]
    }
   ],
   "source": [
    "#Recursion\n",
    "x=4\n",
    "def factorial_Recursion(x):\n",
    "   if x==1 or x==0:#otherwise we would go to zero\n",
    "       return 1\n",
    "   else:\n",
    "       return factorial_Recursion(x-1)*x\n",
    "    \n",
    "\n",
    "rec=factorial_Recursion(x)\n",
    "print(\"Recursive result:\\n\",rec)\n",
    "\n",
    "\n",
    "#No recursion\n",
    "def factorial_noRecursion(n):\n",
    "    if n==0:\n",
    "        return 1\n",
    "    else:\n",
    "        fact=1\n",
    "        for j in range(1,n+1):\n",
    "            fact=fact*j\n",
    "        return fact\n",
    "factorial=factorial_noRecursion(x)\n",
    "print(\"No recursive result:\\n\",factorial)"
   ]
  },
  {
   "cell_type": "markdown",
   "metadata": {},
   "source": [
    "5\\. Use HOFs (zip in particular) to compute the weight of a circle, a disk and a sphere, assuming different radii and different densities:\n",
    "\n",
    "```python\n",
    "densities = {\"Al\" : [0.5, 1, 2], \"Fe\" : [3, 4, 5], \"Pb\" : [15, 20, 30]}\n",
    "radii = [1, 2, 3]\n",
    "```\n",
    "\n",
    "where the entries of the dictionary's values are the linear, superficial and volumetric densities of the materials respectively.\n",
    "\n",
    "Subsequently, define a list using a comprehension with three lambda functions that compute the circumference, the area and the volume for a given radius.\n"
   ]
  },
  {
   "cell_type": "code",
   "execution_count": 48,
   "metadata": {},
   "outputs": [
    {
     "name": "stdout",
     "output_type": "stream",
     "text": [
      "Weight of a  Circle  of radius= 1  made of \n",
      " Aluminium: 30.819023931715872  N \n",
      " Iron: 184.91414359029523 N \n",
      " Lead 924.5707179514761  N\n",
      "Weight of a  Circle  of radius= 2  made of \n",
      " Aluminium: 61.638047863431744  N \n",
      " Iron: 369.82828718059045 N \n",
      " Lead 1849.1414359029523  N\n",
      "Weight of a  Circle  of radius= 3  made of \n",
      " Aluminium: 92.45707179514761  N \n",
      " Iron: 554.7424307708857 N \n",
      " Lead 2773.7121538544284  N\n",
      "Weight of a  Disk  of radius= 1  made of \n",
      " Aluminium: 30.819023931715872  N \n",
      " Iron: 123.27609572686349 N \n",
      " Lead 616.3804786343175  N\n",
      "Weight of a  Disk  of radius= 2  made of \n",
      " Aluminium: 123.27609572686349  N \n",
      " Iron: 493.10438290745395 N \n",
      " Lead 2465.52191453727  N\n",
      "Weight of a  Disk  of radius= 3  made of \n",
      " Aluminium: 277.37121538544284  N \n",
      " Iron: 1109.4848615417714 N \n",
      " Lead 5547.424307708857  N\n",
      "Weight of a  Sphere  of radius= 1  made of \n",
      " Aluminium: 82.18406381790899  N \n",
      " Iron: 205.46015954477247 N \n",
      " Lead 1232.7609572686347  N\n",
      "Weight of a  Sphere  of radius= 2  made of \n",
      " Aluminium: 657.4725105432719  N \n",
      " Iron: 1643.6812763581797 N \n",
      " Lead 9862.087658149077  N\n",
      "Weight of a  Sphere  of radius= 3  made of \n",
      " Aluminium: 2218.9697230835427  N \n",
      " Iron: 5547.424307708856 N \n",
      " Lead 33284.54584625314  N\n"
     ]
    }
   ],
   "source": [
    "#Weight=Volume*density*9.81\n",
    "\n",
    "from math import pi #we'll need it to compute volumes\n",
    "\n",
    "densities = {\"Al\" : [0.5, 1, 2], \"Fe\" : [3, 4, 5], \"Pb\" : [15, 20, 30]}\n",
    "radii = [1, 2, 3]\n",
    "\n",
    "compute_volumes=[lambda x: x*2*pi, lambda x: (x**2)*pi, lambda x: 4/3*pi*(x**3)]#defining a list of functions for volumes' computing\n",
    "\n",
    "shapes=[\"Circle\", \"Disk\", \"Sphere\"] #Giving names to shapes just in order to print them\n",
    "\n",
    "for a,f,p,i in zip(densities[\"Al\"], densities[\"Fe\"],densities[\"Pb\"],range(3)):\n",
    "    j=0\n",
    "    for r in map(compute_volumes[i],radii):\n",
    "        print(\"Weight of a \",shapes[i],\" of radius=\",radii[j],\" made of \\n Aluminium:\",a*r*9.81,\" N \\n Iron:\",f*r*9.81,\"N \\n Lead\",p*r*9.81,\" N\")\n",
    "        j+=1\n"
   ]
  },
  {
   "cell_type": "markdown",
   "metadata": {},
   "source": [
    "6\\. Edit the class defintion to add an instance attribute of `is_hungry = True` to the Dog class. Then add a method called `eat()` which changes the value of `is_hungry` to `False` when called. Figure out the best way to instantiate the dog objects and to feed the dogs, e.g. call the `eat()` method for all instances. Finally, print “My dogs are hungry.” or “My dogs are not hungry.” if all of them have `is_hungry = True` or `False`, respectively. The final output should look like this:\n",
    "\n",
    "`I have 3 dogs. \n",
    "Tom is 6. \n",
    "Fletcher is 7. \n",
    "Larry is 9. \n",
    "And they're all mammals, of course. \n",
    "My dogs are not hungry.\n",
    "`\n",
    "\n",
    "```python\n",
    "# Parent class\n",
    "class Dog:\n",
    "\n",
    "    # Class attribute\n",
    "    species = 'mammal'\n",
    "\n",
    "    # Initializer / Instance attributes\n",
    "    def __init__(self, name, age):\n",
    "        self.name = name\n",
    "        self.age = age\n",
    "\n",
    "    # instance method\n",
    "    def description(self):\n",
    "        return \"{} is {} years old\".format(self.name, self.age)\n",
    "\n",
    "    # instance method\n",
    "    def speak(self, sound):\n",
    "        return \"{} says {}\".format(self.name, sound)\n",
    "\n",
    "# Child class (inherits from Dog class)\n",
    "class RussellTerrier(Dog):\n",
    "    def run(self, speed):\n",
    "        return \"{} runs {}\".format(self.name, speed)\n",
    "\n",
    "# Child class (inherits from Dog class)\n",
    "class Bulldog(Dog):\n",
    "    def run(self, speed):\n",
    "        return \"{} runs {}\".format(self.name, speed)\n",
    "```"
   ]
  },
  {
   "cell_type": "code",
   "execution_count": 66,
   "metadata": {},
   "outputs": [
    {
     "name": "stdout",
     "output_type": "stream",
     "text": [
      "I have  3  dogs.\n",
      "\n",
      "Tom is 6 years old\n",
      "Fletcher is 7 years old\n",
      "Larry is 9 years old\n",
      "\n",
      "And they're all mammals, of course.\n",
      "\n",
      "My dogs are not hungry.\n"
     ]
    }
   ],
   "source": [
    "# Parent class\n",
    "class Dog:\n",
    "\n",
    "    # Class attribute\n",
    "    species = 'mammal'\n",
    "    \n",
    "    # Initializer / Instance attributes\n",
    "    def __init__(self, name, age):\n",
    "        self.name = name\n",
    "        self.age = age\n",
    "        self.is_hungry = True\n",
    "\n",
    "    # instance method\n",
    "    def description(self):\n",
    "        return \"{} is {} years old\".format(self.name, self.age)\n",
    "\n",
    "    # instance method\n",
    "    def speak(self, sound):\n",
    "        return \"{} says {}\".format(self.name, sound)\n",
    "    \n",
    "     # instance method\n",
    "    def eat(self):\n",
    "        self.is_hungry = False\n",
    "\n",
    "# Child class (inherits from Dog class)\n",
    "class RussellTerrier(Dog):\n",
    "    def run(self, speed):\n",
    "        return \"{} runs {}\".format(self.name, speed)\n",
    "\n",
    "# Child class (inherits from Dog class)\n",
    "class Bulldog(Dog):\n",
    "    def run(self, speed):\n",
    "        return \"{} runs {}\".format(self.name, speed)\n",
    "\n",
    "    \n",
    "#I have 3 dogs. \n",
    "#Tom is 6. \n",
    "#Fletcher is 7. \n",
    "#Larry is 9. \n",
    "#And they're all mammals, of course. \n",
    "#My dogs are not hungry.\n",
    "\n",
    "dogs=[Bulldog(\"Tom\",6),Bulldog(\"Fletcher\",7),RussellTerrier(\"Larry\",9)]\n",
    "print(\"I have \",len(dogs),\" dogs.\\n\")\n",
    "for dog in dogs:\n",
    "    print(dog.description())\n",
    "\n",
    "assert(all(dog.species == \"mammal\" for dog in dogs))\n",
    "print(\"\\nAnd they're all mammals, of course.\")\n",
    "\n",
    "for dog in dogs:\n",
    "    dog.eat()\n",
    "\n",
    "if all(dog.is_hungry==True for dog in dogs):\n",
    "    print(\"\\nMy dogs are hungry.\")\n",
    "elif all( dog.is_hungry==False for dog in dogs):\n",
    "    print(\"\\nMy dogs are not hungry.\")"
   ]
  },
  {
   "cell_type": "code",
   "execution_count": 127,
   "metadata": {},
   "outputs": [],
   "source": []
  },
  {
   "cell_type": "code",
   "execution_count": null,
   "metadata": {},
   "outputs": [],
   "source": []
  }
 ],
 "metadata": {
  "kernelspec": {
   "display_name": "Python 3 (ipykernel)",
   "language": "python",
   "name": "python3"
  },
  "language_info": {
   "codemirror_mode": {
    "name": "ipython",
    "version": 3
   },
   "file_extension": ".py",
   "mimetype": "text/x-python",
   "name": "python",
   "nbconvert_exporter": "python",
   "pygments_lexer": "ipython3",
   "version": "3.9.6"
  }
 },
 "nbformat": 4,
 "nbformat_minor": 2
}
