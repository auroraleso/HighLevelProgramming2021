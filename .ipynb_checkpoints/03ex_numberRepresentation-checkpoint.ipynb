{
 "cells": [
  {
   "cell_type": "markdown",
   "metadata": {},
   "source": [
    "1\\. Write a function that converts numbers among the bin, dec, and hex representations (bin<->dec<->hex)"
   ]
  },
  {
   "cell_type": "code",
   "execution_count": 16,
   "metadata": {},
   "outputs": [
    {
     "name": "stdout",
     "output_type": "stream",
     "text": [
      "Binary representation of 23 : 0b10111\n",
      "Hexadecimal representation of 23 : 0x17\n",
      "Decimal representation of 0b10111 : 23\n",
      "Decimal representation of 0x17 : 23\n"
     ]
    },
    {
     "data": {
      "text/plain": [
       "'0b10111'"
      ]
     },
     "execution_count": 16,
     "metadata": {},
     "output_type": "execute_result"
    }
   ],
   "source": [
    "def conversion(n):\n",
    "n=23\n",
    "conversion(n)"
   ]
  },
  {
   "cell_type": "markdown",
   "metadata": {},
   "source": [
    "2\\. Write a function that converts a 32 bit word into a single precision floating point (i.e. interprets the various bits as sign, mantissa and exponent) and check its validity."
   ]
  },
  {
   "cell_type": "code",
   "execution_count": 19,
   "metadata": {},
   "outputs": [
    {
     "name": "stdout",
     "output_type": "stream",
     "text": [
      "00111111001100110011001100110011\n"
     ]
    }
   ],
   "source": [
    "import struct\n",
    "def singlePrecision(word):"
   ]
  },
  {
   "cell_type": "markdown",
   "metadata": {},
   "source": [
    "3\\. Write a program to determine the underflow and overflow limits (within a factor of 2) for python on your computer. \n",
    "\n",
    "**Tip**: define two variables initialized to 1 and halve/double them for a sufficient amount of times to exceed the under/over-flow limits  "
   ]
  },
  {
   "cell_type": "code",
   "execution_count": 30,
   "metadata": {},
   "outputs": [
    {
     "name": "stdout",
     "output_type": "stream",
     "text": [
      "Underflow limit value: approx 5e-324\n",
      "Overflow limit value: approx 9007199254740992.0\n"
     ]
    }
   ],
   "source": [
    "n=1\n",
    "i=0\n",
    "while n>0:\n",
    "    n=n/2\n",
    "    i=i+1\n",
    "    if n/2==0:\n",
    "        print(\"Underflow limit value: approx\",n)\n",
    "        i=i+1\n",
    "        break\n",
    "n1=1\n",
    "i=0\n",
    "while n+1!=n:\n",
    "    n=n*2\n",
    "    i=i+1\n",
    "    if n+1==n:\n",
    "        print(\"Overflow limit value: approx\",n)\n",
    "        i=i+1\n",
    "        break\n"
   ]
  },
  {
   "cell_type": "markdown",
   "metadata": {},
   "source": [
    "4\\. Write a program to determine the machine precision\n",
    "\n",
    "**Tip**: define a new variable by adding an increasingly smaller value (in the same way as the previous problem) and check when the addition starts to have no effect on the number"
   ]
  },
  {
   "cell_type": "code",
   "execution_count": 44,
   "metadata": {},
   "outputs": [
    {
     "name": "stdout",
     "output_type": "stream",
     "text": [
      "1.0000000000000002\n"
     ]
    }
   ],
   "source": [
    "n=1\n",
    "epsilon=1\n",
    "n1=n+epsilon\n",
    "i=0\n",
    "while n1!=n:\n",
    "    epsilon=epsilon/2\n",
    "    n1=n+epsilon\n",
    "    i=i+1\n",
    "    if n+epsilon/2==n:\n",
    "        i=i+1\n",
    "        print(n1)\n",
    "        break\n",
    "        \n",
    "#print(i)"
   ]
  },
  {
   "cell_type": "markdown",
   "metadata": {},
   "source": [
    "5\\. Write a function that takes in input three parameters $a$, $b$ and $c$ and prints out the two solutions to the quadratic equation $ax^2+bx+c=0$ using the standard formula:\n",
    "$$\n",
    "x=\\frac{-b\\pm\\sqrt{b^2-4ac}}{2a}\n",
    "$$\n",
    "\n",
    "(a) use the program to compute the solution for $a=0.001$, $b=1000$ and $c=0.001$\n",
    "\n",
    "(b) re-express the standard solution formula by multiplying the numerator and the denominator by $-b\\mp\\sqrt{b^2-4ac}$ and again find the solution for $a=0.001$, $b=1000$ and $c=0.001$. How does it compare with what has been previously obtained, and why?\n",
    "\n",
    "(c) write a function that computes the roots of a quadratic equation accurately in all cases"
   ]
  },
  {
   "cell_type": "code",
   "execution_count": 65,
   "metadata": {},
   "outputs": [
    {
     "name": "stdout",
     "output_type": "stream",
     "text": [
      "Our equation is 0.001 x^2 + 1000 x + 0.001 = 0\n",
      "\n",
      "Our solutions should be:\n",
      "x1= -9.999894245993346e-07 x2= -999999.999999\n",
      "x1= -9.999894245993346e-07 x2= -999999.9999990001\n"
     ]
    }
   ],
   "source": [
    "import math\n",
    "a=0.001\n",
    "b=1000\n",
    "c=0.001\n",
    "print(\"Our equation is\",a,\"x^2 +\",b,\"x +\",c,\"= 0\\n\")\n",
    "print(\"Our solutions should be:\")\n",
    "print(\"x1=\",(-b+math.sqrt(b**2-4*a*c))/(2*a),\"x2=\",(-b-math.sqrt(b**2-4*a*c))/(2*a))\n",
    "\n",
    "print(\"x1=\",(-b+math.sqrt(b**2-4*a*c))*(-b-math.sqrt(b**2-4*a*c))/(2*a*(-b-math.sqrt(b**2-4*a*c))),\"x2=\",(-b-math.sqrt(b**2-4*a*c))*((-b+math.sqrt(b**2-4*a*c)))/((2*a)*(-b+math.sqrt(b**2-4*a*c))))"
   ]
  },
  {
   "cell_type": "markdown",
   "metadata": {},
   "source": [
    "6\\. Write a program that implements the function $f(x)=x(x−1)$\n",
    "\n",
    "(a) Calculate the derivative of the function at the point $x = 1$ using the derivative definition:\n",
    "\n",
    "$$\n",
    "\\frac{{\\rm d}f}{{\\rm d}x} = \\lim_{\\delta\\to0} \\frac{f(x+\\delta)-f(x)}{\\delta}\n",
    "$$\n",
    "\n",
    "with $\\delta = 10^{−2}$. Calculate the true value of the same derivative analytically and compare it with the answer your program gives. The two will not agree perfectly. Why?\n",
    "\n",
    "(b) Repeat the calculation for $\\delta = 10^{−4}, 10^{−6}, 10^{−8}, 10^{−10}, 10^{−12}$ and $10^{−14}$. How does the accuracy scales with $\\delta$?"
   ]
  },
  {
   "cell_type": "code",
   "execution_count": 1,
   "metadata": {},
   "outputs": [
    {
     "name": "stdout",
     "output_type": "stream",
     "text": [
      "1.010000000000001\n",
      "1.0000999999998899\n",
      "1.0000009999177333\n",
      "1.0000000039225287\n",
      "1.000000082840371\n",
      "1.0000889005833413\n",
      "0.9992007221626509\n"
     ]
    }
   ],
   "source": [
    "x=1\n",
    "def f(x):\n",
    "    return x*(x-1)\n",
    "\n",
    "df=(f(x+0.01)-f(x))/0.01\n",
    "print(df)\n",
    "delta=10**(-4)\n",
    "while delta>=10**(-14):\n",
    "    df=(f(x+delta)-f(x))/delta\n",
    "    print(df)\n",
    "    delta=delta/100"
   ]
  },
  {
   "cell_type": "markdown",
   "metadata": {},
   "source": [
    "7\\. Consider the integral of the semicircle of radius 1:\n",
    "$$\n",
    "I=\\int_{-1}^{1} \\sqrt(1-x^2) {\\rm d}x\n",
    "$$\n",
    "which is known to be $I=\\frac{\\pi}{2}=1.57079632679...$.\n",
    "\n",
    "Alternatively we can use the Riemann definition of the integral:\n",
    "$$\n",
    "I=\\lim_{N\\to\\infty} \\sum_{k=1}^{N} h y_k \n",
    "$$\n",
    "\n",
    "with $h=2/N$ the width of each of the $N$ slices the domain is divided into and where\n",
    "$y_k$ is the value of the function at the $k-$th slice.\n",
    "\n",
    "(a) Write a program to compute the integral with $N=100$. How does the result compare to the true value?\n",
    "\n",
    "(b) How much can $N$ be increased if the computation needs to be run in less than a second? What is the gain in running it for 1 minute? \n"
   ]
  },
  {
   "cell_type": "code",
   "execution_count": 20,
   "metadata": {
    "scrolled": true
   },
   "outputs": [
    {
     "name": "stdout",
     "output_type": "stream",
     "text": [
      "Result with our Riemann method: 1.5602085158895234\n",
      "Difference with true result: -0.010587810905373196\n"
     ]
    }
   ],
   "source": [
    "import math\n",
    "int=0\n",
    "#a)\n",
    "for k in range(1,100):\n",
    "    int=int+(2/100*(math.sqrt(1-(k*1/100)**2)))\n",
    "    #print (k*1/100)\n",
    "print(\"Result with our Riemann method:\",int)\n",
    "print(\"Difference with true result:\",int-math.pi/2)\n",
    "\n",
    "#b)"
   ]
  },
  {
   "cell_type": "code",
   "execution_count": null,
   "metadata": {},
   "outputs": [],
   "source": []
  }
 ],
 "metadata": {
  "kernelspec": {
   "display_name": "Python 3 (ipykernel)",
   "language": "python",
   "name": "python3"
  },
  "language_info": {
   "codemirror_mode": {
    "name": "ipython",
    "version": 3
   },
   "file_extension": ".py",
   "mimetype": "text/x-python",
   "name": "python",
   "nbconvert_exporter": "python",
   "pygments_lexer": "ipython3",
   "version": "3.9.6"
  }
 },
 "nbformat": 4,
 "nbformat_minor": 2
}
