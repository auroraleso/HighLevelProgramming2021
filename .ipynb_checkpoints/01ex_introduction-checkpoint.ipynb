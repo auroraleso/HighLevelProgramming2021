{
 "cells": [
  {
   "cell_type": "markdown",
   "metadata": {},
   "source": [
    "1. The HelloWorld replacement\n",
    "\n",
    "a) Write a program that prints the numbers from 1 to 100. But for multiples of three print \"Hello\" instead of the number and for the multiples of five print \"World\". For numbers which are multiples of both three and five print \"HelloWorld\".\n",
    "\n",
    "b) Put the result in a tuple and substitute \"Hello\" with \"Python\" and \"World\" with \"Works\"."
   ]
  },
  {
   "cell_type": "code",
   "execution_count": 7,
   "metadata": {},
   "outputs": [
    {
     "name": "stdout",
     "output_type": "stream",
     "text": [
      "1\n",
      "2\n",
      "Hello\n",
      "4\n",
      "World\n",
      "Hello\n",
      "7\n",
      "8\n",
      "Hello\n",
      "World\n",
      "11\n",
      "Hello\n",
      "13\n",
      "14\n",
      "HelloWorld\n",
      "16\n",
      "17\n",
      "Hello\n",
      "19\n",
      "World\n",
      "Hello\n",
      "22\n",
      "23\n",
      "Hello\n",
      "World\n",
      "26\n",
      "Hello\n",
      "28\n",
      "29\n",
      "HelloWorld\n",
      "31\n",
      "32\n",
      "Hello\n",
      "34\n",
      "World\n",
      "Hello\n",
      "37\n",
      "38\n",
      "Hello\n",
      "World\n",
      "41\n",
      "Hello\n",
      "43\n",
      "44\n",
      "HelloWorld\n",
      "46\n",
      "47\n",
      "Hello\n",
      "49\n",
      "World\n",
      "Hello\n",
      "52\n",
      "53\n",
      "Hello\n",
      "World\n",
      "56\n",
      "Hello\n",
      "58\n",
      "59\n",
      "HelloWorld\n",
      "61\n",
      "62\n",
      "Hello\n",
      "64\n",
      "World\n",
      "Hello\n",
      "67\n",
      "68\n",
      "Hello\n",
      "World\n",
      "71\n",
      "Hello\n",
      "73\n",
      "74\n",
      "HelloWorld\n",
      "76\n",
      "77\n",
      "Hello\n",
      "79\n",
      "World\n",
      "Hello\n",
      "82\n",
      "83\n",
      "Hello\n",
      "World\n",
      "86\n",
      "Hello\n",
      "88\n",
      "89\n",
      "HelloWorld\n",
      "91\n",
      "92\n",
      "Hello\n",
      "94\n",
      "World\n",
      "Hello\n",
      "97\n",
      "98\n",
      "Hello\n",
      "(1, 2, 'Python', 4, 'Wroks', 'Python', 7, 8, 'Python', 'Wroks', 11, 'Python', 13, 14, 'Hello World', 16, 17, 'Python', 19, 'Wroks', 'Python', 22, 23, 'Python', 'Wroks', 26, 'Python', 28, 29, 'Hello World', 31, 32, 'Python', 34, 'Wroks', 'Python', 37, 38, 'Python', 'Wroks', 41, 'Python', 43, 44, 'Hello World', 46, 47, 'Python', 49, 'Wroks', 'Python', 52, 53, 'Python', 'Wroks', 56, 'Python', 58, 59, 'Hello World', 61, 62, 'Python', 64, 'Wroks', 'Python', 67, 68, 'Python', 'Wroks', 71, 'Python', 73, 74, 'Hello World', 76, 77, 'Python', 79, 'Wroks', 'Python', 82, 83, 'Python', 'Wroks', 86, 'Python', 88, 89, 'Hello World', 91, 92, 'Python', 94, 'Wroks', 'Python', 97, 98, 'Python', 'Wroks')\n"
     ]
    },
    {
     "data": {
      "text/plain": [
       "tuple"
      ]
     },
     "execution_count": 7,
     "metadata": {},
     "output_type": "execute_result"
    }
   ],
   "source": [
    "#a): we loop over the element \n",
    "for i in range(1,100):\n",
    "    if i%3==0:\n",
    "        if i%5==0:\n",
    "            print(\"HelloWorld\")\n",
    "        else:\n",
    "            print(\"Hello\")\n",
    "    elif i%5==0 and i%3>0:\n",
    "        print(\"World\")\n",
    "    else:\n",
    "        print(i)\n",
    "\n"
   ]
  },
  {
   "cell_type": "code",
   "execution_count": 8,
   "metadata": {},
   "outputs": [
    {
     "name": "stdout",
     "output_type": "stream",
     "text": [
      "(1, 2, 'Python', 4, 'Wroks', 'Python', 7, 8, 'Python', 'Wroks', 11, 'Python', 13, 14, 'Hello World', 16, 17, 'Python', 19, 'Wroks', 'Python', 22, 23, 'Python', 'Wroks', 26, 'Python', 28, 29, 'Hello World', 31, 32, 'Python', 34, 'Wroks', 'Python', 37, 38, 'Python', 'Wroks', 41, 'Python', 43, 44, 'Hello World', 46, 47, 'Python', 49, 'Wroks', 'Python', 52, 53, 'Python', 'Wroks', 56, 'Python', 58, 59, 'Hello World', 61, 62, 'Python', 64, 'Wroks', 'Python', 67, 68, 'Python', 'Wroks', 71, 'Python', 73, 74, 'Hello World', 76, 77, 'Python', 79, 'Wroks', 'Python', 82, 83, 'Python', 'Wroks', 86, 'Python', 88, 89, 'Hello World', 91, 92, 'Python', 94, 'Wroks', 'Python', 97, 98, 'Python', 'Wroks')\n"
     ]
    },
    {
     "data": {
      "text/plain": [
       "tuple"
      ]
     },
     "execution_count": 8,
     "metadata": {},
     "output_type": "execute_result"
    }
   ],
   "source": [
    "#b) lets try in another way... we can create a list and then convert it in a tuple\n",
    "list = []\n",
    "for i in range(1,101):\n",
    "    if i % 3 == 0  and i % 5 == 0 :\n",
    "            list.append(\"Hello World\")   \n",
    "    elif i % 3 == 0 :                \n",
    "            list.append(\"Hello\")         \n",
    "    elif i % 5 == 0 :\n",
    "            list.append(\"World\")\n",
    "    else:\n",
    "            list.append(i)\n",
    "#print(list)\n",
    "\n",
    "#to make the swap\n",
    "for j in range(1,len(lista)):\n",
    "        if list[j]==\"Hello\":\n",
    "                list[j]=\"Python\"\n",
    "        elif list[j]==\"World\":\n",
    "                list[j]=\"Wroks\"\n",
    "\n",
    "listToTuple=tuple(list)#storing the list in a tuple\n",
    "print(listToTuple)\n",
    "type(listToTuple) #just to check if the conversion was ok\n",
    "\n"
   ]
  },
  {
   "cell_type": "markdown",
   "metadata": {},
   "source": [
    "2\\. The swap function\n",
    "\n",
    "Write a function that swap the values of two input variables x and y (whatever the type). Try to do that also without a temporary variable"
   ]
  },
  {
   "cell_type": "code",
   "execution_count": 13,
   "metadata": {},
   "outputs": [
    {
     "name": "stdout",
     "output_type": "stream",
     "text": [
      "Original Data--> pippo 4\n",
      "Swapped data first way--> 4 pippo\n",
      "Original Data--> 5 4\n",
      "Swapped data faster way--> (4, 5)\n"
     ]
    }
   ],
   "source": [
    "x=\"pippo\"\n",
    "y=4\n",
    "print(\"Original Data-->\",x,y)\n",
    "\n",
    "def SwappingData(x,y):\n",
    "    z=x\n",
    "    #print(z)\n",
    "    x=y\n",
    "    #print(x)\n",
    "    y=z\n",
    "    #print(y)\n",
    "    print(\"Swapped data first way-->\", x,y)\n",
    "    \n",
    "SwappingData(x,y)\n",
    "\n",
    "#now, without the z variable who makes things easier\n",
    "a=5\n",
    "b=4\n",
    "print(\"Original Data-->\",a,b)\n",
    "def SwapFaster(x,y):\n",
    "    x,y=y,x\n",
    "    return x,y\n",
    "\n",
    "print(\"Swapped data faster way-->\",SwapFaster(a,b))\n"
   ]
  },
  {
   "cell_type": "markdown",
   "metadata": {},
   "source": [
    "3\\. Computing the distance\n",
    "\n",
    "Write a function that calculates and returns the euclidean distance between two points *u* and *v*, where *u* and *v* are both 2-tuples *(x,y)*. For example, if *u=(3,0)* and *v=(0,4)*, the function should return 5"
   ]
  },
  {
   "cell_type": "code",
   "execution_count": 45,
   "metadata": {},
   "outputs": [
    {
     "name": "stdout",
     "output_type": "stream",
     "text": [
      "2.23606797749979\n"
     ]
    }
   ],
   "source": [
    "u=[7,3]\n",
    "v=[6,5]\n",
    "def Distance(u,v):\n",
    "    d=((u[0]-v[0])**2+(u[1]-v[1])**2)**0.5\n",
    "    print(d)\n",
    "Distance(u,v)"
   ]
  },
  {
   "cell_type": "markdown",
   "metadata": {},
   "source": [
    "4\\. Counting letters\n",
    "\n",
    "Write a program to calculate the number of times each character occurs in a given string *s*. Ignore differences in capitalization"
   ]
  },
  {
   "cell_type": "code",
   "execution_count": 69,
   "metadata": {},
   "outputs": [
    {
     "name": "stdout",
     "output_type": "stream",
     "text": [
      "Let's check the string  I topi non avevano nipoti \n",
      "\n",
      "i  appears 4  times\n",
      "t  appears 2  times\n",
      "p  appears 2  times\n",
      "n  appears 4  times\n",
      "There are  4  spaces in this sentence\n",
      "v  appears 2  times\n",
      "o  appears 4  times\n"
     ]
    },
    {
     "ename": "IndexError",
     "evalue": "string index out of range",
     "output_type": "error",
     "traceback": [
      "\u001b[0;31m---------------------------------------------------------------------------\u001b[0m",
      "\u001b[0;31mIndexError\u001b[0m                                Traceback (most recent call last)",
      "\u001b[0;32m/var/folders/7y/vcm5mnh10nb75hxg48yft2980000gn/T/ipykernel_1140/808735891.py\u001b[0m in \u001b[0;36m<module>\u001b[0;34m\u001b[0m\n\u001b[1;32m      6\u001b[0m \u001b[0;32mfor\u001b[0m \u001b[0mi\u001b[0m \u001b[0;32min\u001b[0m \u001b[0mrange\u001b[0m\u001b[0;34m(\u001b[0m\u001b[0;36m0\u001b[0m\u001b[0;34m,\u001b[0m\u001b[0mlen\u001b[0m\u001b[0;34m(\u001b[0m\u001b[0ms\u001b[0m\u001b[0;34m)\u001b[0m\u001b[0;34m)\u001b[0m\u001b[0;34m:\u001b[0m\u001b[0;34m\u001b[0m\u001b[0;34m\u001b[0m\u001b[0m\n\u001b[1;32m      7\u001b[0m     \u001b[0;32mfor\u001b[0m \u001b[0mj\u001b[0m \u001b[0;32min\u001b[0m \u001b[0mrange\u001b[0m\u001b[0;34m(\u001b[0m\u001b[0;36m0\u001b[0m\u001b[0;34m,\u001b[0m\u001b[0mlen\u001b[0m\u001b[0;34m(\u001b[0m\u001b[0ms\u001b[0m\u001b[0;34m)\u001b[0m\u001b[0;34m)\u001b[0m\u001b[0;34m:\u001b[0m\u001b[0;34m\u001b[0m\u001b[0;34m\u001b[0m\u001b[0m\n\u001b[0;32m----> 8\u001b[0;31m         \u001b[0;32mif\u001b[0m \u001b[0ms\u001b[0m\u001b[0;34m[\u001b[0m\u001b[0mi\u001b[0m\u001b[0;34m]\u001b[0m\u001b[0;34m==\u001b[0m\u001b[0ms\u001b[0m\u001b[0;34m[\u001b[0m\u001b[0mj\u001b[0m\u001b[0;34m]\u001b[0m\u001b[0;34m:\u001b[0m\u001b[0;34m\u001b[0m\u001b[0;34m\u001b[0m\u001b[0m\n\u001b[0m\u001b[1;32m      9\u001b[0m             \u001b[0mcounter\u001b[0m\u001b[0;34m=\u001b[0m\u001b[0mcounter\u001b[0m\u001b[0;34m+\u001b[0m\u001b[0;36m1\u001b[0m\u001b[0;34m\u001b[0m\u001b[0;34m\u001b[0m\u001b[0m\n\u001b[1;32m     10\u001b[0m     \u001b[0;32mif\u001b[0m \u001b[0ms\u001b[0m\u001b[0;34m[\u001b[0m\u001b[0mi\u001b[0m\u001b[0;34m]\u001b[0m\u001b[0;34m!=\u001b[0m\u001b[0;34m\" \"\u001b[0m\u001b[0;34m:\u001b[0m\u001b[0;34m\u001b[0m\u001b[0;34m\u001b[0m\u001b[0m\n",
      "\u001b[0;31mIndexError\u001b[0m: string index out of range"
     ]
    }
   ],
   "source": [
    "s=\"I topi non avevano nipoti\"\n",
    "print(\"Let's check the string \", s,\"\\n\")\n",
    "s=s.lower()\n",
    "counter=0\n",
    "\n",
    "for i in range(0,len(s)):\n",
    "    for j in range(0,len(s)):\n",
    "        if s[i]==s[j]:\n",
    "            counter=counter+1\n",
    "    if s[i]!=\" \":\n",
    "        print(s[i],' appears',counter,' times')\n",
    "    if s[i]==\" \":\n",
    "        print(\"There are \", counter, \" spaces in this sentence\")\n",
    "    s=s.replace(s[i],\"\")\n",
    "    counter=0"
   ]
  },
  {
   "cell_type": "code",
   "execution_count": 32,
   "metadata": {},
   "outputs": [],
   "source": []
  },
  {
   "cell_type": "code",
   "execution_count": null,
   "metadata": {},
   "outputs": [],
   "source": []
  },
  {
   "cell_type": "markdown",
   "metadata": {},
   "source": [
    "5\\. Isolating the unique\n",
    "\n",
    "Write a function that determines and count the unique numbers in the list:"
   ]
  },
  {
   "cell_type": "code",
   "execution_count": 72,
   "metadata": {},
   "outputs": [
    {
     "name": "stdout",
     "output_type": "stream",
     "text": [
      "36  appears  3  times.\n",
      "58  appears  1  times.\n",
      "74  appears  1  times.\n",
      "64  appears  1  times.\n",
      "31  appears  2  times.\n",
      "24  appears  1  times.\n",
      "33  appears  1  times.\n",
      "99  appears  1  times.\n",
      "63  appears  2  times.\n",
      "85  appears  3  times.\n",
      "63  appears  1  times.\n",
      "56  appears  2  times.\n",
      "70  appears  3  times.\n",
      "88  appears  1  times.\n",
      "20  appears  2  times.\n",
      "8  appears  1  times.\n",
      "51  appears  3  times.\n",
      "81  appears  1  times.\n",
      "37  appears  1  times.\n",
      "1  appears  1  times.\n",
      "84  appears  4  times.\n",
      "66  appears  2  times.\n",
      "89  appears  2  times.\n",
      "42  appears  2  times.\n",
      "50  appears  2  times.\n",
      "90  appears  1  times.\n",
      "39  appears  1  times.\n",
      "82  appears  1  times.\n",
      "92  appears  1  times.\n",
      "45  appears  3  times.\n",
      "66  appears  1  times.\n",
      "34  appears  2  times.\n",
      "94  appears  1  times.\n",
      "3  appears  2  times.\n",
      "72  appears  1  times.\n",
      "84  appears  3  times.\n",
      "87  appears  1  times.\n",
      "53  appears  1  times.\n",
      "20  appears  1  times.\n",
      "51  appears  2  times.\n"
     ]
    },
    {
     "ename": "IndexError",
     "evalue": "list index out of range",
     "output_type": "error",
     "traceback": [
      "\u001b[0;31m---------------------------------------------------------------------------\u001b[0m",
      "\u001b[0;31mIndexError\u001b[0m                                Traceback (most recent call last)",
      "\u001b[0;32m/var/folders/7y/vcm5mnh10nb75hxg48yft2980000gn/T/ipykernel_1140/2661776425.py\u001b[0m in \u001b[0;36m<module>\u001b[0;34m\u001b[0m\n\u001b[1;32m     14\u001b[0m         \u001b[0mcounter\u001b[0m\u001b[0;34m=\u001b[0m\u001b[0;36m0\u001b[0m\u001b[0;34m\u001b[0m\u001b[0;34m\u001b[0m\u001b[0m\n\u001b[1;32m     15\u001b[0m \u001b[0;34m\u001b[0m\u001b[0m\n\u001b[0;32m---> 16\u001b[0;31m \u001b[0mcountingDuplicates\u001b[0m\u001b[0;34m(\u001b[0m\u001b[0ml\u001b[0m\u001b[0;34m)\u001b[0m\u001b[0;34m\u001b[0m\u001b[0;34m\u001b[0m\u001b[0m\n\u001b[0m",
      "\u001b[0;32m/var/folders/7y/vcm5mnh10nb75hxg48yft2980000gn/T/ipykernel_1140/2661776425.py\u001b[0m in \u001b[0;36mcountingDuplicates\u001b[0;34m(l)\u001b[0m\n\u001b[1;32m      6\u001b[0m     \u001b[0mcounter\u001b[0m\u001b[0;34m=\u001b[0m\u001b[0;36m0\u001b[0m\u001b[0;34m\u001b[0m\u001b[0;34m\u001b[0m\u001b[0m\n\u001b[1;32m      7\u001b[0m     \u001b[0;32mfor\u001b[0m \u001b[0mi\u001b[0m \u001b[0;32min\u001b[0m \u001b[0mrange\u001b[0m\u001b[0;34m(\u001b[0m\u001b[0;36m0\u001b[0m\u001b[0;34m,\u001b[0m\u001b[0mlen\u001b[0m\u001b[0;34m(\u001b[0m\u001b[0ml\u001b[0m\u001b[0;34m)\u001b[0m\u001b[0;34m-\u001b[0m\u001b[0;36m1\u001b[0m\u001b[0;34m)\u001b[0m\u001b[0;34m:\u001b[0m\u001b[0;34m\u001b[0m\u001b[0;34m\u001b[0m\u001b[0m\n\u001b[0;32m----> 8\u001b[0;31m         \u001b[0mn\u001b[0m\u001b[0;34m=\u001b[0m\u001b[0ml\u001b[0m\u001b[0;34m[\u001b[0m\u001b[0mi\u001b[0m\u001b[0;34m]\u001b[0m\u001b[0;34m\u001b[0m\u001b[0;34m\u001b[0m\u001b[0m\n\u001b[0m\u001b[1;32m      9\u001b[0m         \u001b[0;32mfor\u001b[0m \u001b[0mj\u001b[0m \u001b[0;32min\u001b[0m \u001b[0mrange\u001b[0m\u001b[0;34m(\u001b[0m\u001b[0;36m0\u001b[0m\u001b[0;34m,\u001b[0m\u001b[0mlen\u001b[0m\u001b[0;34m(\u001b[0m\u001b[0ml\u001b[0m\u001b[0;34m)\u001b[0m\u001b[0;34m-\u001b[0m\u001b[0;36m1\u001b[0m\u001b[0;34m)\u001b[0m\u001b[0;34m:\u001b[0m\u001b[0;34m\u001b[0m\u001b[0;34m\u001b[0m\u001b[0m\n\u001b[1;32m     10\u001b[0m             \u001b[0;32mif\u001b[0m \u001b[0ml\u001b[0m\u001b[0;34m[\u001b[0m\u001b[0mj\u001b[0m\u001b[0;34m]\u001b[0m\u001b[0;34m==\u001b[0m\u001b[0mn\u001b[0m\u001b[0;34m:\u001b[0m\u001b[0;34m\u001b[0m\u001b[0;34m\u001b[0m\u001b[0m\n",
      "\u001b[0;31mIndexError\u001b[0m: list index out of range"
     ]
    }
   ],
   "source": [
    "l = [36, 45, 58, 3, 74, 96, 64, 45, 31, 10, 24, 19, 33, 86, 99, 18, 63, 70, 85,\n",
    " 85, 63, 47, 56, 42, 70, 84, 88, 55, 20, 54, 8, 56, 51, 79, 81, 57, 37, 91,\n",
    " 1, 84, 84, 36, 66, 9, 89, 50, 42, 91, 50, 95, 90, 98, 39, 16, 82, 31, 92, 41,\n",
    " 45, 30, 66, 70, 34, 85, 94, 5, 3, 36, 72, 91, 84, 34, 87, 75, 53, 51, 20, 89, 51, 20]\n",
    "def countingDuplicates(l):\n",
    "    counter=0\n",
    "    for i in range(0,len(l)-1):\n",
    "        n=l[i]\n",
    "        for j in range(0,len(l)-1):\n",
    "            if l[j]==n:\n",
    "                counter=counter+1\n",
    "        print(n,\" appears \",counter, \" times.\")\n",
    "        l.remove(n)\n",
    "        counter=0\n",
    "    \n",
    "countingDuplicates(l)"
   ]
  },
  {
   "cell_type": "markdown",
   "metadata": {},
   "source": [
    "Do the same without using user-defined functions, but exploiting only the Python data structures."
   ]
  },
  {
   "cell_type": "markdown",
   "metadata": {},
   "source": [
    "6\\. Combination of functions\n",
    "\n",
    "Write two functions - one that returns the square of a number, and one that returns the cube. Now write a third function that returns the number raised to the 6th power using the two previous functions."
   ]
  },
  {
   "cell_type": "code",
   "execution_count": 8,
   "metadata": {},
   "outputs": [
    {
     "name": "stdout",
     "output_type": "stream",
     "text": [
      "1000\n",
      "100\n",
      "100000000000000000000\n"
     ]
    },
    {
     "data": {
      "text/plain": [
       "100000000000000000000"
      ]
     },
     "execution_count": 8,
     "metadata": {},
     "output_type": "execute_result"
    }
   ],
   "source": [
    "n=10\n",
    "def square(n):\n",
    "    p=n**2\n",
    "    return p\n",
    "    #print(n)\n",
    "def cube(n):\n",
    "    m=n**3\n",
    "    return m\n",
    "    #print(n)\n",
    "#square(n)\n",
    "#cube(n)\n",
    "    \n",
    "def _6power(n):\n",
    "    m=cube(n)\n",
    "    print(m)\n",
    "    p=square(n)\n",
    "    print(p)\n",
    "    j=p**n\n",
    "    print(j)\n",
    "    return j\n",
    "    \n",
    "_6power(n)\n"
   ]
  },
  {
   "cell_type": "markdown",
   "metadata": {},
   "source": [
    "7\\. Cubes\n",
    "\n",
    "Create a list of the cubes of x for x in *[0, 10]* using:\n",
    "\n",
    "a) a for loop\n",
    "\n",
    "b) a list comprehension"
   ]
  },
  {
   "cell_type": "code",
   "execution_count": 132,
   "metadata": {},
   "outputs": [
    {
     "name": "stdout",
     "output_type": "stream",
     "text": [
      "[0, 1, 8, 27, 64, 125, 216, 343, 512, 729]\n",
      "[0, 1, 8, 27, 64, 125, 216, 343, 512, 729]\n"
     ]
    }
   ],
   "source": [
    "a=[]\n",
    "i=0\n",
    "for x in range(0,10):\n",
    "    a.append(x**3)\n",
    "    i=i+1\n",
    "print(a)\n",
    "#fancy way\n",
    "cubes = [x**3 for x in range(10)]\n",
    "print(cubes)"
   ]
  },
  {
   "cell_type": "markdown",
   "metadata": {},
   "source": [
    "8\\. Nested list comprehension\n",
    "\n",
    "A Pythagorean triple is an integer solution to the Pythagorean theorem $a^2+b^2=c^2$. The first Pythagorean triple is (3,4,5). Find and put in a tuple all unique Pythagorean triples for the positive integers a, b and c less than 100."
   ]
  },
  {
   "cell_type": "code",
   "execution_count": 75,
   "metadata": {},
   "outputs": [
    {
     "name": "stdout",
     "output_type": "stream",
     "text": [
      "3 4 5\n",
      "5 12 13\n",
      "6 8 10\n",
      "7 24 25\n",
      "8 15 17\n",
      "9 12 15\n",
      "9 40 41\n",
      "10 24 26\n",
      "11 60 61\n",
      "12 16 20\n",
      "12 35 37\n",
      "13 84 85\n",
      "14 48 50\n",
      "15 20 25\n",
      "15 36 39\n",
      "16 30 34\n",
      "16 63 65\n",
      "18 24 30\n",
      "18 80 82\n",
      "20 21 29\n",
      "20 48 52\n",
      "21 28 35\n",
      "21 72 75\n",
      "24 32 40\n",
      "24 45 51\n",
      "24 70 74\n",
      "25 60 65\n",
      "27 36 45\n",
      "28 45 53\n",
      "30 40 50\n",
      "30 72 78\n",
      "32 60 68\n",
      "33 44 55\n",
      "33 56 65\n",
      "35 84 91\n",
      "36 48 60\n",
      "36 77 85\n",
      "39 52 65\n",
      "39 80 89\n",
      "40 42 58\n",
      "40 75 85\n",
      "42 56 70\n",
      "45 60 75\n",
      "48 55 73\n",
      "48 64 80\n",
      "51 68 85\n",
      "54 72 90\n",
      "57 76 95\n",
      "60 63 87\n",
      "65 72 97\n",
      "(3, 4, 5, 5, 12, 13, 6, 8, 10, 7, 24, 25, 8, 15, 17, 9, 12, 15, 9, 40, 41, 10, 24, 26, 11, 60, 61, 12, 16, 20, 12, 35, 37, 13, 84, 85, 14, 48, 50, 15, 20, 25, 15, 36, 39, 16, 30, 34, 16, 63, 65, 18, 24, 30, 18, 80, 82, 20, 21, 29, 20, 48, 52, 21, 28, 35, 21, 72, 75, 24, 32, 40, 24, 45, 51, 24, 70, 74, 25, 60, 65, 27, 36, 45, 28, 45, 53, 30, 40, 50, 30, 72, 78, 32, 60, 68, 33, 44, 55, 33, 56, 65, 35, 84, 91, 36, 48, 60, 36, 77, 85, 39, 52, 65, 39, 80, 89, 40, 42, 58, 40, 75, 85, 42, 56, 70, 45, 60, 75, 48, 55, 73, 48, 64, 80, 51, 68, 85, 54, 72, 90, 57, 76, 95, 60, 63, 87, 65, 72, 97)\n"
     ]
    }
   ],
   "source": [
    "list=[]\n",
    "for i in range(0,100):\n",
    "    for j in range(i+1,100):\n",
    "        for k in range(j+1,100):\n",
    "            if i**2+j**2==k**2:\n",
    "                print(i,j,k)\n",
    "                list.append(i)\n",
    "                list.append(j)\n",
    "                list.append(k)\n",
    "tupleOfPythagoreans=tuple(list)\n",
    "print(tupleOfPythagoreans)"
   ]
  },
  {
   "cell_type": "markdown",
   "metadata": {},
   "source": [
    "9\\. Normalization\n",
    "\n",
    "Write a function that takes a tuple of numbers and returns it with the entries normalized to one"
   ]
  },
  {
   "cell_type": "code",
   "execution_count": 79,
   "metadata": {},
   "outputs": [
    {
     "name": "stdout",
     "output_type": "stream",
     "text": [
      "5\n",
      "2.23606797749979\n",
      "[0.4472135954999579, 0.8944271909999159]\n"
     ]
    }
   ],
   "source": [
    "elements=(1,2)\n",
    "listelements=[]\n",
    "def normalization(elements):\n",
    "    s=0\n",
    "    for i in range(0,len(elements)):\n",
    "        s=s+elements[i]**2\n",
    "    print(s)\n",
    "    s=s**0.5\n",
    "    print(s)\n",
    "    for j in range(0,len(elements)):\n",
    "        listelements.append(elements[j]/s)\n",
    "   \n",
    "normalization(elements)\n",
    "print(listelements)"
   ]
  },
  {
   "cell_type": "code",
   "execution_count": null,
   "metadata": {},
   "outputs": [],
   "source": []
  }
 ],
 "metadata": {
  "kernelspec": {
   "display_name": "Python 3 (ipykernel)",
   "language": "python",
   "name": "python3"
  },
  "language_info": {
   "codemirror_mode": {
    "name": "ipython",
    "version": 3
   },
   "file_extension": ".py",
   "mimetype": "text/x-python",
   "name": "python",
   "nbconvert_exporter": "python",
   "pygments_lexer": "ipython3",
   "version": "3.9.6"
  }
 },
 "nbformat": 4,
 "nbformat_minor": 2
}
