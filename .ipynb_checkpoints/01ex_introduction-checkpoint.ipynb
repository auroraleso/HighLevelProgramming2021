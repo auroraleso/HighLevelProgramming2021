{
 "cells": [
  {
   "cell_type": "markdown",
   "metadata": {},
   "source": [
    "1. The HelloWorld replacement\n",
    "\n",
    "a) Write a program that prints the numbers from 1 to 100. But for multiples of three print \"Hello\" instead of the number and for the multiples of five print \"World\". For numbers which are multiples of both three and five print \"HelloWorld\".\n",
    "\n",
    "b) Put the result in a tuple and substitute \"Hello\" with \"Python\" and \"World\" with \"Works\"."
   ]
  },
  {
   "cell_type": "code",
   "execution_count": 1,
   "metadata": {},
   "outputs": [
    {
     "name": "stdout",
     "output_type": "stream",
     "text": [
      "1\n",
      "2\n",
      "Hello\n",
      "4\n",
      "World\n",
      "Hello\n",
      "7\n",
      "8\n",
      "Hello\n",
      "World\n",
      "11\n",
      "Hello\n",
      "13\n",
      "14\n",
      "HelloWorld\n",
      "16\n",
      "17\n",
      "Hello\n",
      "19\n",
      "World\n",
      "Hello\n",
      "22\n",
      "23\n",
      "Hello\n",
      "World\n",
      "26\n",
      "Hello\n",
      "28\n",
      "29\n",
      "HelloWorld\n",
      "31\n",
      "32\n",
      "Hello\n",
      "34\n",
      "World\n",
      "Hello\n",
      "37\n",
      "38\n",
      "Hello\n",
      "World\n",
      "41\n",
      "Hello\n",
      "43\n",
      "44\n",
      "HelloWorld\n",
      "46\n",
      "47\n",
      "Hello\n",
      "49\n",
      "World\n",
      "Hello\n",
      "52\n",
      "53\n",
      "Hello\n",
      "World\n",
      "56\n",
      "Hello\n",
      "58\n",
      "59\n",
      "HelloWorld\n",
      "61\n",
      "62\n",
      "Hello\n",
      "64\n",
      "World\n",
      "Hello\n",
      "67\n",
      "68\n",
      "Hello\n",
      "World\n",
      "71\n",
      "Hello\n",
      "73\n",
      "74\n",
      "HelloWorld\n",
      "76\n",
      "77\n",
      "Hello\n",
      "79\n",
      "World\n",
      "Hello\n",
      "82\n",
      "83\n",
      "Hello\n",
      "World\n",
      "86\n",
      "Hello\n",
      "88\n",
      "89\n",
      "HelloWorld\n",
      "91\n",
      "92\n",
      "Hello\n",
      "94\n",
      "World\n",
      "Hello\n",
      "97\n",
      "98\n",
      "Hello\n",
      "World\n"
     ]
    }
   ],
   "source": [
    "#a): we loop over the element \n",
    "for i in range(1,101):\n",
    "    if i%3==0:\n",
    "        if i%5==0:\n",
    "            print(\"HelloWorld\")\n",
    "        else:\n",
    "            print(\"Hello\")\n",
    "    elif i%5==0 and i%3>0:\n",
    "        print(\"World\")\n",
    "    else:\n",
    "        print(i)\n",
    "\n"
   ]
  },
  {
   "cell_type": "code",
   "execution_count": 5,
   "metadata": {},
   "outputs": [
    {
     "name": "stdout",
     "output_type": "stream",
     "text": [
      "(1, 2, 'Python', 4, 'Works', 'Python', 7, 8, 'Python', 'Works', 11, 'Python', 13, 14, 'Hello World', 16, 17, 'Python', 19, 'Works', 'Python', 22, 23, 'Python', 'Works', 26, 'Python', 28, 29, 'Hello World', 31, 32, 'Python', 34, 'Works', 'Python', 37, 38, 'Python', 'Works', 41, 'Python', 43, 44, 'Hello World', 46, 47, 'Python', 49, 'Works', 'Python', 52, 53, 'Python', 'Works', 56, 'Python', 58, 59, 'Hello World', 61, 62, 'Python', 64, 'Works', 'Python', 67, 68, 'Python', 'Works', 71, 'Python', 73, 74, 'Hello World', 76, 77, 'Python', 79, 'Works', 'Python', 82, 83, 'Python', 'Works', 86, 'Python', 88, 89, 'Hello World', 91, 92, 'Python', 94, 'Works', 'Python', 97, 98, 'Python', 'Works')\n"
     ]
    },
    {
     "data": {
      "text/plain": [
       "tuple"
      ]
     },
     "execution_count": 5,
     "metadata": {},
     "output_type": "execute_result"
    }
   ],
   "source": [
    "#b) lets try in another way... we can create a list and then convert it in a tuple\n",
    "list = []\n",
    "for i in range(1,101):\n",
    "    if i % 3 == 0  and i % 5 == 0 :\n",
    "            list.append(\"Hello World\")   \n",
    "    elif i % 3 == 0 :                \n",
    "            list.append(\"Hello\")         \n",
    "    elif i % 5 == 0 :\n",
    "            list.append(\"World\")\n",
    "    else:\n",
    "            list.append(i)\n",
    "#print(list)\n",
    "\n",
    "#to make the swap\n",
    "for j in range(1,len(list)):\n",
    "        if list[j]==\"Hello\":\n",
    "                list[j]=\"Python\"\n",
    "        elif list[j]==\"World\":\n",
    "                list[j]=\"Works\"\n",
    "\n",
    "listToTuple=tuple(list)#storing the list in a tuple\n",
    "print(listToTuple)\n",
    "type(listToTuple) #just to check if the conversion was ok\n",
    "\n"
   ]
  },
  {
   "cell_type": "markdown",
   "metadata": {},
   "source": [
    "2\\. The swap function\n",
    "\n",
    "Write a function that swap the values of two input variables x and y (whatever the type). Try to do that also without a temporary variable"
   ]
  },
  {
   "cell_type": "code",
   "execution_count": 2,
   "metadata": {},
   "outputs": [
    {
     "name": "stdout",
     "output_type": "stream",
     "text": [
      "set x value:7\n",
      "set y value:ciao\n",
      "\n",
      "Original Data--> 7 ciao\n",
      "Swapped data first way--> ciao 7 \n",
      "\n",
      "Original Data--> 7 ciao\n",
      "Swapped data faster way--> ('ciao', '7')\n"
     ]
    }
   ],
   "source": [
    "x= input(\"set x value:\")\n",
    "y= input(\"set y value:\")\n",
    "print(\"\\nOriginal Data-->\",x,y)\n",
    "\n",
    "def SwappingData(x,y):\n",
    "    z=x\n",
    "    x=y\n",
    "    y=z\n",
    "    print(\"Swapped data first way-->\", x,y,\"\\n\")\n",
    "    \n",
    "SwappingData(x,y)\n",
    "\n",
    "#now, without the z variable who makes things easier\n",
    "\n",
    "print(\"Original Data-->\",x,y)\n",
    "def SwapFaster(x,y):\n",
    "    x,y=y,x\n",
    "    return x,y\n",
    "\n",
    "print(\"Swapped data faster way-->\",SwapFaster(x,y))\n"
   ]
  },
  {
   "cell_type": "markdown",
   "metadata": {},
   "source": [
    "3\\. Computing the distance\n",
    "\n",
    "Write a function that calculates and returns the euclidean distance between two points *u* and *v*, where *u* and *v* are both 2-tuples *(x,y)*. For example, if *u=(3,0)* and *v=(0,4)*, the function should return 5"
   ]
  },
  {
   "cell_type": "code",
   "execution_count": 18,
   "metadata": {},
   "outputs": [
    {
     "data": {
      "text/plain": [
       "2.23606797749979"
      ]
     },
     "execution_count": 18,
     "metadata": {},
     "output_type": "execute_result"
    }
   ],
   "source": [
    "u=(7,3)\n",
    "v=(6,5)\n",
    "def Distance(u,v):\n",
    "    d=((u[0]-v[0])**2+(u[1]-v[1])**2)**0.5\n",
    "    return(d)\n",
    "    \n",
    "Distance(u,v)"
   ]
  },
  {
   "cell_type": "markdown",
   "metadata": {},
   "source": [
    "4\\. Counting letters\n",
    "\n",
    "Write a program to calculate the number of times each character occurs in a given string *s*. Ignore differences in capitalization"
   ]
  },
  {
   "cell_type": "code",
   "execution_count": 42,
   "metadata": {},
   "outputs": [
    {
     "name": "stdout",
     "output_type": "stream",
     "text": [
      "Let's check the string  My anxiety has anxiety too \n",
      "\n",
      "m  appears  1  times.\n",
      "y  appears  3  times.\n",
      "There are  4  spaces in this sentence.\n",
      "a  appears  3  times.\n",
      "n  appears  2  times.\n",
      "x  appears  2  times.\n",
      "i  appears  2  times.\n",
      "e  appears  2  times.\n",
      "t  appears  3  times.\n",
      "h  appears  1  times.\n",
      "s  appears  1  times.\n",
      "o  appears  2  times.\n"
     ]
    }
   ],
   "source": [
    "s=\"My anxiety has anxiety too\" \n",
    "print(\"Let's check the string \", s,\"\\n\")\n",
    "s=s.lower() #just to remove differences in capitalization\n",
    "counter=0 \n",
    "\n",
    "for i in range(0,len(s)): #loop over letters\n",
    "    for j in range(0,len(s)): #loop over letters again, to compare them \n",
    "        if s[0]==s[j]:\n",
    "            counter=counter+1 \n",
    "    #just a fancy way of printing stuff        \n",
    "    if s[0]!=\" \":\n",
    "        print(s[0],\" appears \",counter,\" times.\")\n",
    "        \n",
    "    if s[0]==\" \":\n",
    "        print(\"There are \", counter, \" spaces in this sentence.\")\n",
    "        \n",
    "    s=s.replace(s[0],\"\")#needed in order to avoid the re-count of the same letter\n",
    "    counter=0 #resetting counter\n",
    "    if len(s)==0: #needed since removing letters, at a certain point, we would go out of range\n",
    "        break"
   ]
  },
  {
   "cell_type": "code",
   "execution_count": null,
   "metadata": {},
   "outputs": [],
   "source": []
  },
  {
   "cell_type": "code",
   "execution_count": null,
   "metadata": {},
   "outputs": [],
   "source": []
  },
  {
   "cell_type": "markdown",
   "metadata": {},
   "source": [
    "5\\. Isolating the unique\n",
    "\n",
    "Write a function that determines and count the unique numbers in the list:"
   ]
  },
  {
   "cell_type": "code",
   "execution_count": 140,
   "metadata": {},
   "outputs": [
    {
     "name": "stdout",
     "output_type": "stream",
     "text": [
      "List of the unique numbers:\n",
      " [58, 74, 96, 64, 10, 24, 19, 33, 86, 99, 18, 47, 88, 55, 54, 8, 79, 81, 57, 37, 1, 9, 95, 90, 98, 39, 16, 82, 92, 41, 30, 94, 5, 72, 87, 75, 53]\n",
      "\n",
      "There are  37  unique numbers in the given list.\n"
     ]
    }
   ],
   "source": [
    "l = [36, 45, 58, 3, 74, 96, 64, 45, 31, 10, 24, 19, 33, 86, 99, 18, 63, 70, 85,\n",
    " 85, 63, 47, 56, 42, 70, 84, 88, 55, 20, 54, 8, 56, 51, 79, 81, 57, 37, 91,\n",
    " 1, 84, 84, 36, 66, 9, 89, 50, 42, 91, 50, 95, 90, 98, 39, 16, 82, 31, 92, 41,\n",
    " 45, 30, 66, 70, 34, 85, 94, 5, 3, 36, 72, 91, 84, 34, 87, 75, 53, 51, 20, 89, 51, 20]\n",
    "\n",
    "unique_nums=[]\n",
    "\n",
    "def countingDuplicates(l):\n",
    "    for i in l:\n",
    "        if l.count(i)==1:\n",
    "            unique_nums.append(i)\n",
    "            \n",
    "        \n",
    "    \n",
    "c=countingDuplicates(l)\n",
    "print(\"List of the unique numbers:\\n\",unique_nums)\n",
    "print(\"\\nThere are \", len(unique_nums), \" unique numbers in the given list.\")"
   ]
  },
  {
   "cell_type": "markdown",
   "metadata": {},
   "source": [
    "Do the same without using user-defined functions, but exploiting only the Python data structures."
   ]
  },
  {
   "cell_type": "markdown",
   "metadata": {},
   "source": [
    "6\\. Combination of functions\n",
    "\n",
    "Write two functions - one that returns the square of a number, and one that returns the cube. Now write a third function that returns the number raised to the 6th power using the two previous functions."
   ]
  },
  {
   "cell_type": "code",
   "execution_count": 116,
   "metadata": {},
   "outputs": [
    {
     "name": "stdout",
     "output_type": "stream",
     "text": [
      "Set n value: 10\n"
     ]
    },
    {
     "data": {
      "text/plain": [
       "1000000.0"
      ]
     },
     "execution_count": 116,
     "metadata": {},
     "output_type": "execute_result"
    }
   ],
   "source": [
    "n=float(input(\"Set n value: \"))\n",
    "def square(n):\n",
    "    return n**2\n",
    "  \n",
    "def cube(n):\n",
    "    return n**3\n",
    "\n",
    "def _6power(n):\n",
    "    return cube(square(n))\n",
    "\n",
    "_6power(n)\n"
   ]
  },
  {
   "cell_type": "markdown",
   "metadata": {},
   "source": [
    "7\\. Cubes\n",
    "\n",
    "Create a list of the cubes of x for x in *[0, 10]* using:\n",
    "\n",
    "a) a for loop\n",
    "\n",
    "b) a list comprehension"
   ]
  },
  {
   "cell_type": "code",
   "execution_count": 85,
   "metadata": {},
   "outputs": [
    {
     "name": "stdout",
     "output_type": "stream",
     "text": [
      "[0, 1, 8, 27, 64, 125, 216, 343, 512, 729, 1000]\n",
      "[0, 1, 8, 27, 64, 125, 216, 343, 512, 729, 1000]\n"
     ]
    }
   ],
   "source": [
    "a=[]\n",
    "for x in range(10+1):\n",
    "    a.append(x**3)\n",
    "    \n",
    "print(a)\n",
    "#fancy way\n",
    "cubes = [x**3 for x in range(10+1)]\n",
    "print(cubes)"
   ]
  },
  {
   "cell_type": "markdown",
   "metadata": {},
   "source": [
    "8\\. Nested list comprehension\n",
    "\n",
    "A Pythagorean triple is an integer solution to the Pythagorean theorem $a^2+b^2=c^2$. The first Pythagorean triple is (3,4,5). Find and put in a tuple all unique Pythagorean triples for the positive integers a, b and c less than 100."
   ]
  },
  {
   "cell_type": "code",
   "execution_count": 92,
   "metadata": {},
   "outputs": [
    {
     "name": "stdout",
     "output_type": "stream",
     "text": [
      "([3, 4, 5], [5, 12, 13], [6, 8, 10], [7, 24, 25], [8, 15, 17], [9, 12, 15], [9, 40, 41], [10, 24, 26], [11, 60, 61], [12, 16, 20], [12, 35, 37], [13, 84, 85], [14, 48, 50], [15, 20, 25], [15, 36, 39], [16, 30, 34], [16, 63, 65], [18, 24, 30], [18, 80, 82], [20, 21, 29], [20, 48, 52], [21, 28, 35], [21, 72, 75], [24, 32, 40], [24, 45, 51], [24, 70, 74], [25, 60, 65], [27, 36, 45], [28, 45, 53], [30, 40, 50], [30, 72, 78], [32, 60, 68], [33, 44, 55], [33, 56, 65], [35, 84, 91], [36, 48, 60], [36, 77, 85], [39, 52, 65], [39, 80, 89], [40, 42, 58], [40, 75, 85], [42, 56, 70], [45, 60, 75], [48, 55, 73], [48, 64, 80], [51, 68, 85], [54, 72, 90], [57, 76, 95], [60, 63, 87], [65, 72, 97])\n"
     ]
    }
   ],
   "source": [
    "list=[]\n",
    "sublist=[]\n",
    "for i in range(100):\n",
    "    for j in range(i+1,100):\n",
    "        for k in range(j+1,100):\n",
    "            if i**2+j**2==k**2:\n",
    "                #print(i,j,k)\n",
    "                sublist.append(i)\n",
    "                sublist.append(j)\n",
    "                sublist.append(k)\n",
    "                list.append(sublist)\n",
    "                sublist=[]\n",
    "tupleOfPythagoreans=tuple(list)\n",
    "print(tupleOfPythagoreans)"
   ]
  },
  {
   "cell_type": "markdown",
   "metadata": {},
   "source": [
    "9\\. Normalization\n",
    "\n",
    "Write a function that takes a tuple of numbers and returns it with the entries normalized to one"
   ]
  },
  {
   "cell_type": "code",
   "execution_count": 113,
   "metadata": {},
   "outputs": [
    {
     "data": {
      "text/plain": [
       "(0.2672612419124244, 0.5345224838248488, 0.8017837257372732)"
      ]
     },
     "execution_count": 113,
     "metadata": {},
     "output_type": "execute_result"
    }
   ],
   "source": [
    "p=(1,2,3)\n",
    "listelements=[]\n",
    "def normalization(elements):\n",
    "    normalizingFactor=0\n",
    "    for i in range(0,len(elements)):\n",
    "        normalizingFactor=normalizingFactor+elements[i]**2\n",
    "    normalizingFactor=normalizingFactor**0.5\n",
    "    \n",
    "    for j in range(0,len(elements)):\n",
    "        listelements.append(elements[j]/normalizingFactor)\n",
    "    p=tuple(listelements)\n",
    "    return p\n",
    "   \n",
    "normalization(p)\n"
   ]
  },
  {
   "cell_type": "code",
   "execution_count": null,
   "metadata": {},
   "outputs": [],
   "source": []
  }
 ],
 "metadata": {
  "kernelspec": {
   "display_name": "Python 3 (ipykernel)",
   "language": "python",
   "name": "python3"
  },
  "language_info": {
   "codemirror_mode": {
    "name": "ipython",
    "version": 3
   },
   "file_extension": ".py",
   "mimetype": "text/x-python",
   "name": "python",
   "nbconvert_exporter": "python",
   "pygments_lexer": "ipython3",
   "version": "3.9.6"
  }
 },
 "nbformat": 4,
 "nbformat_minor": 2
}
